{
 "cells": [
  {
   "cell_type": "markdown",
   "metadata": {},
   "source": [
    "## Music generation with LSTM in Keras\n",
    "* Music generation with LSTM in Keras, https://github.com/unmonoqueteclea/DeepLearning-Notebooks/tree/master/LSTM-Music-Generation\n",
    "\n",
    "* https://unmonoqueteclea.github.io/rnn/lstm/lstm/\n",
    "\n",
    "* https://towardsdatascience.com/how-to-generate-music-using-a-lstm-neural-network-in-keras-68786834d4c5\n",
    "\n",
    "* http://www.piano-midi.de/"
   ]
  },
  {
   "cell_type": "code",
   "execution_count": 1,
   "metadata": {},
   "outputs": [
    {
     "name": "stdout",
     "output_type": "stream",
     "text": [
      "/home/hyejoo/work/repos/Capstone19/02_music\r\n"
     ]
    }
   ],
   "source": [
    "!pwd\n",
    "import os\n",
    "os.environ[\"CUDA_DEVICE_ORDER\"]=\"PCI_BUS_ID\"\n",
    "os.environ[\"CUDA_VISIBLE_DEVICES\"]=\"{}\".format(0) # gpu idx"
   ]
  },
  {
   "cell_type": "code",
   "execution_count": 2,
   "metadata": {},
   "outputs": [],
   "source": [
    "import warnings\n",
    "warnings.filterwarnings(\"ignore\")"
   ]
  },
  {
   "cell_type": "code",
   "execution_count": 3,
   "metadata": {},
   "outputs": [
    {
     "name": "stderr",
     "output_type": "stream",
     "text": [
      "Using TensorFlow backend.\n"
     ]
    }
   ],
   "source": [
    "import glob\n",
    "import pickle\n",
    "import numpy\n",
    "import matplotlib.pyplot as plt\n",
    "plt.rcParams['figure.figsize'] = (8,6) # Make the figures a bit bigger\n",
    "import pydot\n",
    "    \n",
    "from music21 import converter, instrument, note, chord, stream\n",
    "from keras.models import Sequential\n",
    "from keras.layers import Dense, Dropout, LSTM, Activation\n",
    "from keras.utils import np_utils\n",
    "from keras.callbacks import ModelCheckpoint"
   ]
  },
  {
   "cell_type": "code",
   "execution_count": 4,
   "metadata": {},
   "outputs": [],
   "source": [
    "home_music = 'midi_files/'"
   ]
  },
  {
   "cell_type": "code",
   "execution_count": 5,
   "metadata": {},
   "outputs": [],
   "source": [
    "outDir = 'out'\n",
    "if not os.path.exists(outDir):\n",
    "    os.makedirs(outDir)"
   ]
  },
  {
   "cell_type": "markdown",
   "metadata": {},
   "source": [
    "### Go "
   ]
  },
  {
   "cell_type": "code",
   "execution_count": 6,
   "metadata": {},
   "outputs": [],
   "source": [
    "folder_name = 'minyo'\n",
    "\n",
    "to_Train = True\n",
    "nb_epoch = 100 \n",
    "sequence_length = 20\n",
    "sqln = 'sq'+str(sequence_length)"
   ]
  },
  {
   "cell_type": "code",
   "execution_count": 7,
   "metadata": {},
   "outputs": [],
   "source": [
    "pickle_name = 'notes_'+folder_name+'_'+sqln+'.pickle'\n",
    "to_load_from_pickle = False #False \n",
    "\n",
    "pickle_name_1 = 'durations_'+folder_name+'_'+sqln+'.pickle'\n",
    "to_load_from_pickle = False #False \n",
    "\n",
    "pickle_name_2 = 'nodu_'+folder_name+'_'+sqln+'.pickle'\n",
    "to_load_from_pickle = False #False "
   ]
  },
  {
   "cell_type": "code",
   "execution_count": 8,
   "metadata": {},
   "outputs": [
    {
     "name": "stdout",
     "output_type": "stream",
     "text": [
      " Parsing file  30   midi_files/minyo/둥당기.midddiddd"
     ]
    }
   ],
   "source": [
    "if to_load_from_pickle:\n",
    "    \n",
    "    notes = pickle.load( open(pickle_name, \"rb\" ) )\n",
    "    durations = pickle.load( open(pickle_name_1, \"rb\" ) )\n",
    "    nodu = pickle.load( open(pickle_name_2, \"rb\" ) )\n",
    "    \n",
    "else:    \n",
    "    notes = []\n",
    "    durations = []\n",
    "    nodu = []\n",
    "    for i,file in enumerate(glob.glob(home_music+folder_name+\"/*.mid\")):\n",
    "        #print(i, file)\n",
    "        midi = converter.parse(file)\n",
    "        print('\\r', 'Parsing file ', i, \" \",file, end='')\n",
    "        notes_to_parse = None\n",
    "        try: # file has instrument parts\n",
    "            s2 = instrument.partitionByInstrument(midi)\n",
    "            notes_to_parse = s2.parts[0].recurse() \n",
    "\n",
    "        except: # file has notes in a flat structure\n",
    "            notes_to_parse = midi.flat.notes\n",
    "            print('------ FLAT Structure --------')\n",
    "\n",
    "        for element in notes_to_parse:\n",
    "            if isinstance(element, note.Note):\n",
    "                str1 = str(element.pitch)\n",
    "                notes.append(str1)\n",
    "                str2 = str(element.duration.quarterLength)\n",
    "                durations.append(str2)\n",
    "                str3 = [str1, str2]\n",
    "                nodu.append(str3)\n",
    "                #print(str3)\n",
    "                \n",
    "                #print('pitch --->', str1)\n",
    "            elif isinstance(element, chord.Chord):\n",
    "                str1 = '.'.join(str(n) for n in element.normalOrder)\n",
    "                #print(str1, '<-------', element.normalOrder)\n",
    "                notes.append(str1)\n",
    "    \n",
    "    with open(pickle_name, 'wb') as filepath:\n",
    "        pickle.dump(notes,filepath)\n",
    "    with open(pickle_name_1, 'wb') as filepath:\n",
    "        pickle.dump(durations,filepath)\n",
    "    with open(pickle_name_2, 'wb') as filepath:\n",
    "        pickle.dump(nodu,filepath)"
   ]
  },
  {
   "cell_type": "code",
   "execution_count": 9,
   "metadata": {},
   "outputs": [
    {
     "data": {
      "text/plain": [
       "2170"
      ]
     },
     "execution_count": 9,
     "metadata": {},
     "output_type": "execute_result"
    }
   ],
   "source": [
    "len(notes)"
   ]
  },
  {
   "cell_type": "code",
   "execution_count": 10,
   "metadata": {
    "scrolled": true
   },
   "outputs": [
    {
     "name": "stdout",
     "output_type": "stream",
     "text": [
      "['E4', 'E4', 'E4', 'A4', 'A4', 'A4', 'A4', 'A4', 'C5', 'C5']\n"
     ]
    }
   ],
   "source": [
    "print(notes[:10])"
   ]
  },
  {
   "cell_type": "code",
   "execution_count": 11,
   "metadata": {},
   "outputs": [
    {
     "name": "stdout",
     "output_type": "stream",
     "text": [
      "['1.0', '0.5', '0.5', '1.0', '1.0', '0.5', '1.5', '1.0', '0.5', '0.5']\n"
     ]
    }
   ],
   "source": [
    "print(durations[:10])"
   ]
  },
  {
   "cell_type": "code",
   "execution_count": 12,
   "metadata": {},
   "outputs": [
    {
     "name": "stdout",
     "output_type": "stream",
     "text": [
      "[['E4', '1.0'], ['E4', '0.5'], ['E4', '0.5'], ['A4', '1.0'], ['A4', '1.0'], ['A4', '0.5'], ['A4', '1.5'], ['A4', '1.0'], ['C5', '0.5'], ['C5', '0.5']]\n"
     ]
    }
   ],
   "source": [
    "print(nodu[:10])"
   ]
  },
  {
   "cell_type": "code",
   "execution_count": 13,
   "metadata": {},
   "outputs": [
    {
     "data": {
      "text/plain": [
       "17"
      ]
     },
     "execution_count": 13,
     "metadata": {},
     "output_type": "execute_result"
    }
   ],
   "source": [
    "# Count different possible outputs\n",
    "n_vocab = (len(set(notes)))\n",
    "n_vocab"
   ]
  },
  {
   "cell_type": "code",
   "execution_count": 14,
   "metadata": {},
   "outputs": [
    {
     "data": {
      "text/plain": [
       "15"
      ]
     },
     "execution_count": 14,
     "metadata": {},
     "output_type": "execute_result"
    }
   ],
   "source": [
    "n_vocab2 = (len(set(durations)))\n",
    "n_vocab2"
   ]
  },
  {
   "cell_type": "code",
   "execution_count": 15,
   "metadata": {},
   "outputs": [
    {
     "data": {
      "text/plain": [
       "101"
      ]
     },
     "execution_count": 15,
     "metadata": {},
     "output_type": "execute_result"
    }
   ],
   "source": [
    "n_vocab3 = (len(set(str(item) for item in nodu)))\n",
    "n_vocab3"
   ]
  },
  {
   "cell_type": "markdown",
   "metadata": {},
   "source": [
    "### data processing"
   ]
  },
  {
   "cell_type": "code",
   "execution_count": 16,
   "metadata": {},
   "outputs": [],
   "source": [
    "pitchnames = sorted(set(item for item in notes))"
   ]
  },
  {
   "cell_type": "code",
   "execution_count": 17,
   "metadata": {
    "scrolled": true
   },
   "outputs": [
    {
     "name": "stdout",
     "output_type": "stream",
     "text": [
      "['A3', 'A4', 'B-3', 'B-4', 'B3', 'B4', 'C4', 'C5', 'D4', 'D5']\n"
     ]
    }
   ],
   "source": [
    "print(pitchnames[:10])"
   ]
  },
  {
   "cell_type": "code",
   "execution_count": 18,
   "metadata": {},
   "outputs": [],
   "source": [
    "dunames = sorted(set(item for item in durations))"
   ]
  },
  {
   "cell_type": "code",
   "execution_count": 19,
   "metadata": {},
   "outputs": [
    {
     "name": "stdout",
     "output_type": "stream",
     "text": [
      "['0.0', '0.25', '0.5', '0.75', '1.0', '1.25', '1.5', '1.75', '1/3', '2.0', '2.25', '2.5', '2/3', '3.0', '5.5']\n"
     ]
    }
   ],
   "source": [
    "print(dunames)"
   ]
  },
  {
   "cell_type": "code",
   "execution_count": 20,
   "metadata": {},
   "outputs": [],
   "source": [
    "nodunames = sorted(set(str(item) for item in nodu))"
   ]
  },
  {
   "cell_type": "code",
   "execution_count": 21,
   "metadata": {},
   "outputs": [
    {
     "name": "stdout",
     "output_type": "stream",
     "text": [
      "[\"['A3', '0.25']\", \"['A3', '0.5']\", \"['A4', '0.25']\", \"['A4', '0.5']\", \"['A4', '0.75']\", \"['A4', '1.0']\", \"['A4', '1.25']\", \"['A4', '1.5']\", \"['A4', '1.75']\", \"['A4', '2.0']\"]\n"
     ]
    }
   ],
   "source": [
    "print(nodunames[:10])"
   ]
  },
  {
   "cell_type": "code",
   "execution_count": 22,
   "metadata": {},
   "outputs": [
    {
     "name": "stdout",
     "output_type": "stream",
     "text": [
      "17 15 101\n"
     ]
    }
   ],
   "source": [
    "print(len(pitchnames), len(dunames), len(nodunames))"
   ]
  },
  {
   "cell_type": "code",
   "execution_count": 23,
   "metadata": {},
   "outputs": [],
   "source": [
    "# create a dictionary to map pitches to integers\n",
    "note_to_int = dict((note, number) for number, note in enumerate(pitchnames))"
   ]
  },
  {
   "cell_type": "code",
   "execution_count": 24,
   "metadata": {},
   "outputs": [
    {
     "name": "stdout",
     "output_type": "stream",
     "text": [
      "{'A3': 0, 'A4': 1, 'B-3': 2, 'B-4': 3, 'B3': 4, 'B4': 5, 'C4': 6, 'C5': 7, 'D4': 8, 'D5': 9, 'E-4': 10, 'E-5': 11, 'E4': 12, 'E5': 13, 'F#4': 14, 'F4': 15, 'G4': 16}\n"
     ]
    }
   ],
   "source": [
    "print(note_to_int)"
   ]
  },
  {
   "cell_type": "code",
   "execution_count": 25,
   "metadata": {},
   "outputs": [],
   "source": [
    "pickle_name_11 = 'note_to_int_'+folder_name+'_'+sqln+'.pickle'\n",
    "with open(pickle_name_11, 'wb') as filepath:\n",
    "    pickle.dump(note_to_int, filepath)"
   ]
  },
  {
   "cell_type": "code",
   "execution_count": 26,
   "metadata": {},
   "outputs": [],
   "source": [
    "duration_to_int = dict((duration, number) for number, duration in enumerate(dunames))"
   ]
  },
  {
   "cell_type": "code",
   "execution_count": 27,
   "metadata": {},
   "outputs": [
    {
     "name": "stdout",
     "output_type": "stream",
     "text": [
      "{'0.0': 0, '0.25': 1, '0.5': 2, '0.75': 3, '1.0': 4, '1.25': 5, '1.5': 6, '1.75': 7, '1/3': 8, '2.0': 9, '2.25': 10, '2.5': 11, '2/3': 12, '3.0': 13, '5.5': 14}\n"
     ]
    }
   ],
   "source": [
    "print(duration_to_int)"
   ]
  },
  {
   "cell_type": "code",
   "execution_count": 28,
   "metadata": {},
   "outputs": [],
   "source": [
    "pickle_name_22 = 'duration_to_int_'+folder_name+'_'+sqln+'.pickle'\n",
    "with open(pickle_name_22, 'wb') as filepath:\n",
    "    pickle.dump(duration_to_int, filepath)"
   ]
  },
  {
   "cell_type": "code",
   "execution_count": 29,
   "metadata": {},
   "outputs": [],
   "source": [
    "nodu_to_int = dict((nodu, number) for number, nodu in enumerate(nodunames))"
   ]
  },
  {
   "cell_type": "code",
   "execution_count": 30,
   "metadata": {},
   "outputs": [
    {
     "name": "stdout",
     "output_type": "stream",
     "text": [
      "{\"['A3', '0.25']\": 0, \"['A3', '0.5']\": 1, \"['A4', '0.25']\": 2, \"['A4', '0.5']\": 3, \"['A4', '0.75']\": 4, \"['A4', '1.0']\": 5, \"['A4', '1.25']\": 6, \"['A4', '1.5']\": 7, \"['A4', '1.75']\": 8, \"['A4', '2.0']\": 9, \"['A4', '2.25']\": 10, \"['A4', '2.5']\": 11, \"['A4', '3.0']\": 12, \"['B-3', '0.25']\": 13, \"['B-3', '0.5']\": 14, \"['B-3', '1.0']\": 15, \"['B-3', '1.5']\": 16, \"['B-3', '1/3']\": 17, \"['B-4', '0.0']\": 18, \"['B-4', '0.25']\": 19, \"['B-4', '0.5']\": 20, \"['B-4', '0.75']\": 21, \"['B-4', '1.0']\": 22, \"['B-4', '1.5']\": 23, \"['B-4', '2.0']\": 24, \"['B-4', '5.5']\": 25, \"['B3', '0.25']\": 26, \"['B3', '0.5']\": 27, \"['B3', '1.0']\": 28, \"['B3', '1.5']\": 29, \"['B4', '0.5']\": 30, \"['B4', '0.75']\": 31, \"['B4', '1.0']\": 32, \"['B4', '1.5']\": 33, \"['B4', '2.0']\": 34, \"['C4', '0.25']\": 35, \"['C4', '0.5']\": 36, \"['C4', '0.75']\": 37, \"['C4', '1.0']\": 38, \"['C4', '1.5']\": 39, \"['C4', '1/3']\": 40, \"['C4', '2.25']\": 41, \"['C4', '2.5']\": 42, \"['C5', '0.25']\": 43, \"['C5', '0.5']\": 44, \"['C5', '0.75']\": 45, \"['C5', '1.0']\": 46, \"['C5', '1.5']\": 47, \"['C5', '2.0']\": 48, \"['C5', '3.0']\": 49, \"['D4', '0.25']\": 50, \"['D4', '0.5']\": 51, \"['D4', '0.75']\": 52, \"['D4', '1.0']\": 53, \"['D4', '1.5']\": 54, \"['D4', '2.5']\": 55, \"['D5', '0.0']\": 56, \"['D5', '0.25']\": 57, \"['D5', '0.5']\": 58, \"['D5', '1.0']\": 59, \"['D5', '1.5']\": 60, \"['E-4', '0.25']\": 61, \"['E-4', '0.5']\": 62, \"['E-4', '1.0']\": 63, \"['E-4', '1.5']\": 64, \"['E-4', '1/3']\": 65, \"['E-4', '2/3']\": 66, \"['E-5', '0.25']\": 67, \"['E-5', '0.5']\": 68, \"['E-5', '2.25']\": 69, \"['E4', '0.25']\": 70, \"['E4', '0.5']\": 71, \"['E4', '0.75']\": 72, \"['E4', '1.0']\": 73, \"['E4', '1.5']\": 74, \"['E4', '2.5']\": 75, \"['E4', '3.0']\": 76, \"['E5', '0.5']\": 77, \"['E5', '1.0']\": 78, \"['F#4', '0.25']\": 79, \"['F#4', '0.5']\": 80, \"['F#4', '1.25']\": 81, \"['F#4', '1.75']\": 82, \"['F4', '0.25']\": 83, \"['F4', '0.5']\": 84, \"['F4', '0.75']\": 85, \"['F4', '1.0']\": 86, \"['F4', '1.5']\": 87, \"['F4', '2.0']\": 88, \"['F4', '2.5']\": 89, \"['F4', '3.0']\": 90, \"['G4', '0.0']\": 91, \"['G4', '0.25']\": 92, \"['G4', '0.5']\": 93, \"['G4', '0.75']\": 94, \"['G4', '1.0']\": 95, \"['G4', '1.5']\": 96, \"['G4', '2.0']\": 97, \"['G4', '2.25']\": 98, \"['G4', '2.5']\": 99, \"['G4', '3.0']\": 100}\n"
     ]
    }
   ],
   "source": [
    "print(nodu_to_int)"
   ]
  },
  {
   "cell_type": "code",
   "execution_count": 31,
   "metadata": {},
   "outputs": [],
   "source": [
    "nodu2 = []\n",
    "for i in range(len(nodu)):\n",
    "    n1 = nodu[i][0] #note\n",
    "    n2 = nodu[i][1] #duration\n",
    "    in1 = note_to_int[n1]\n",
    "    in2 = duration_to_int[n2] \n",
    "\n",
    "    \n",
    "    #n_conv = [in1, in2, diff]\n",
    "    n_conv = [in1,  in2]\n",
    "    nodu2.append(n_conv)"
   ]
  },
  {
   "cell_type": "code",
   "execution_count": 32,
   "metadata": {},
   "outputs": [
    {
     "name": "stdout",
     "output_type": "stream",
     "text": [
      "[[12, 4], [12, 2], [12, 2], [1, 4], [1, 4], [1, 2], [1, 6], [1, 4], [7, 2], [7, 2]]\n"
     ]
    }
   ],
   "source": [
    "print(nodu2[:10])"
   ]
  },
  {
   "cell_type": "code",
   "execution_count": 33,
   "metadata": {},
   "outputs": [],
   "source": [
    "pickle_name_3 = 'nodu2_'+folder_name+'_'+sqln+'.pickle'\n",
    "to_load_from_pickle = False #False "
   ]
  },
  {
   "cell_type": "code",
   "execution_count": 34,
   "metadata": {},
   "outputs": [],
   "source": [
    "with open(pickle_name_3, 'wb') as filepath:\n",
    "        pickle.dump(nodu,filepath)"
   ]
  },
  {
   "cell_type": "code",
   "execution_count": 35,
   "metadata": {},
   "outputs": [
    {
     "data": {
      "text/plain": [
       "101"
      ]
     },
     "execution_count": 35,
     "metadata": {},
     "output_type": "execute_result"
    }
   ],
   "source": [
    "n_vocab4 = (len(set(str(item) for item in nodu2)))\n",
    "n_vocab4"
   ]
  },
  {
   "cell_type": "code",
   "execution_count": 36,
   "metadata": {},
   "outputs": [],
   "source": [
    "nodunames2 = sorted(set(str(item) for item in nodu2))"
   ]
  },
  {
   "cell_type": "code",
   "execution_count": 37,
   "metadata": {},
   "outputs": [
    {
     "name": "stdout",
     "output_type": "stream",
     "text": [
      "['[0, 1]', '[0, 2]', '[1, 10]', '[1, 11]', '[1, 13]', '[1, 1]', '[1, 2]', '[1, 3]', '[1, 4]', '[1, 5]', '[1, 6]', '[1, 7]', '[1, 9]', '[10, 12]', '[10, 1]', '[10, 2]', '[10, 4]', '[10, 6]', '[10, 8]', '[11, 10]', '[11, 1]', '[11, 2]', '[12, 11]', '[12, 13]', '[12, 1]', '[12, 2]', '[12, 3]', '[12, 4]', '[12, 6]', '[13, 2]', '[13, 4]', '[14, 1]', '[14, 2]', '[14, 5]', '[14, 7]', '[15, 11]', '[15, 13]', '[15, 1]', '[15, 2]', '[15, 3]', '[15, 4]', '[15, 6]', '[15, 9]', '[16, 0]', '[16, 10]', '[16, 11]', '[16, 13]', '[16, 1]', '[16, 2]', '[16, 3]', '[16, 4]', '[16, 6]', '[16, 9]', '[2, 1]', '[2, 2]', '[2, 4]', '[2, 6]', '[2, 8]', '[3, 0]', '[3, 14]', '[3, 1]', '[3, 2]', '[3, 3]', '[3, 4]', '[3, 6]', '[3, 9]', '[4, 1]', '[4, 2]', '[4, 4]', '[4, 6]', '[5, 2]', '[5, 3]', '[5, 4]', '[5, 6]', '[5, 9]', '[6, 10]', '[6, 11]', '[6, 1]', '[6, 2]', '[6, 3]', '[6, 4]', '[6, 6]', '[6, 8]', '[7, 13]', '[7, 1]', '[7, 2]', '[7, 3]', '[7, 4]', '[7, 6]', '[7, 9]', '[8, 11]', '[8, 1]', '[8, 2]', '[8, 3]', '[8, 4]', '[8, 6]', '[9, 0]', '[9, 1]', '[9, 2]', '[9, 4]', '[9, 6]']\n"
     ]
    }
   ],
   "source": [
    "print(nodunames2)"
   ]
  },
  {
   "cell_type": "code",
   "execution_count": 38,
   "metadata": {},
   "outputs": [],
   "source": [
    "nodu2_to_int = dict((nodu2, number) for number, nodu2 in enumerate(nodunames2))"
   ]
  },
  {
   "cell_type": "code",
   "execution_count": 39,
   "metadata": {},
   "outputs": [
    {
     "name": "stdout",
     "output_type": "stream",
     "text": [
      "{'[0, 1]': 0, '[0, 2]': 1, '[1, 10]': 2, '[1, 11]': 3, '[1, 13]': 4, '[1, 1]': 5, '[1, 2]': 6, '[1, 3]': 7, '[1, 4]': 8, '[1, 5]': 9, '[1, 6]': 10, '[1, 7]': 11, '[1, 9]': 12, '[10, 12]': 13, '[10, 1]': 14, '[10, 2]': 15, '[10, 4]': 16, '[10, 6]': 17, '[10, 8]': 18, '[11, 10]': 19, '[11, 1]': 20, '[11, 2]': 21, '[12, 11]': 22, '[12, 13]': 23, '[12, 1]': 24, '[12, 2]': 25, '[12, 3]': 26, '[12, 4]': 27, '[12, 6]': 28, '[13, 2]': 29, '[13, 4]': 30, '[14, 1]': 31, '[14, 2]': 32, '[14, 5]': 33, '[14, 7]': 34, '[15, 11]': 35, '[15, 13]': 36, '[15, 1]': 37, '[15, 2]': 38, '[15, 3]': 39, '[15, 4]': 40, '[15, 6]': 41, '[15, 9]': 42, '[16, 0]': 43, '[16, 10]': 44, '[16, 11]': 45, '[16, 13]': 46, '[16, 1]': 47, '[16, 2]': 48, '[16, 3]': 49, '[16, 4]': 50, '[16, 6]': 51, '[16, 9]': 52, '[2, 1]': 53, '[2, 2]': 54, '[2, 4]': 55, '[2, 6]': 56, '[2, 8]': 57, '[3, 0]': 58, '[3, 14]': 59, '[3, 1]': 60, '[3, 2]': 61, '[3, 3]': 62, '[3, 4]': 63, '[3, 6]': 64, '[3, 9]': 65, '[4, 1]': 66, '[4, 2]': 67, '[4, 4]': 68, '[4, 6]': 69, '[5, 2]': 70, '[5, 3]': 71, '[5, 4]': 72, '[5, 6]': 73, '[5, 9]': 74, '[6, 10]': 75, '[6, 11]': 76, '[6, 1]': 77, '[6, 2]': 78, '[6, 3]': 79, '[6, 4]': 80, '[6, 6]': 81, '[6, 8]': 82, '[7, 13]': 83, '[7, 1]': 84, '[7, 2]': 85, '[7, 3]': 86, '[7, 4]': 87, '[7, 6]': 88, '[7, 9]': 89, '[8, 11]': 90, '[8, 1]': 91, '[8, 2]': 92, '[8, 3]': 93, '[8, 4]': 94, '[8, 6]': 95, '[9, 0]': 96, '[9, 1]': 97, '[9, 2]': 98, '[9, 4]': 99, '[9, 6]': 100}\n"
     ]
    }
   ],
   "source": [
    "print(nodu2_to_int)"
   ]
  },
  {
   "cell_type": "code",
   "execution_count": 40,
   "metadata": {},
   "outputs": [],
   "source": [
    "pickle_name_33 = 'nodu2_to_int_'+folder_name+'_'+sqln+'.pickle'\n",
    "with open(pickle_name_33, 'wb') as filepath:\n",
    "    pickle.dump(nodu2_to_int, filepath)"
   ]
  },
  {
   "cell_type": "markdown",
   "metadata": {},
   "source": [
    "### DataInput"
   ]
  },
  {
   "cell_type": "code",
   "execution_count": 41,
   "metadata": {},
   "outputs": [
    {
     "data": {
      "text/plain": [
       "2150"
      ]
     },
     "execution_count": 41,
     "metadata": {},
     "output_type": "execute_result"
    }
   ],
   "source": [
    "len(notes)- sequence_length"
   ]
  },
  {
   "cell_type": "code",
   "execution_count": 42,
   "metadata": {},
   "outputs": [
    {
     "data": {
      "text/plain": [
       "2170"
      ]
     },
     "execution_count": 42,
     "metadata": {},
     "output_type": "execute_result"
    }
   ],
   "source": [
    "len(nodu)"
   ]
  },
  {
   "cell_type": "code",
   "execution_count": 43,
   "metadata": {},
   "outputs": [
    {
     "name": "stdout",
     "output_type": "stream",
     "text": [
      "[[12, 4], [12, 2], [12, 2], [1, 4], [1, 4], [1, 2], [1, 6], [1, 4], [7, 2], [7, 2], [1, 4], [1, 4], [1, 2], [16, 6], [12, 4], [12, 2], [12, 2], [12, 4], [12, 4], [12, 2]]\n",
      "(20, 2)\n"
     ]
    }
   ],
   "source": [
    "i=0\n",
    "import numpy as np\n",
    "print(nodu2[i:i + sequence_length])\n",
    "print(np.shape(nodu2[i:i + sequence_length]))"
   ]
  },
  {
   "cell_type": "code",
   "execution_count": 44,
   "metadata": {},
   "outputs": [
    {
     "name": "stdout",
     "output_type": "stream",
     "text": [
      "[12, 6]\n",
      "(2,)\n"
     ]
    }
   ],
   "source": [
    "i=0\n",
    "a = nodu2[i + sequence_length]\n",
    "print(a)\n",
    "print(np.shape(a))"
   ]
  },
  {
   "cell_type": "code",
   "execution_count": 45,
   "metadata": {
    "scrolled": true
   },
   "outputs": [],
   "source": [
    "network_input = []\n",
    "network_output = []\n",
    "# create input sequences and the corresponding outputs\n",
    "for i in range(0, len(nodu2) - sequence_length, 1):\n",
    "    sequence_in = nodu2[i:i + sequence_length]\n",
    "    sequence_in2 = []\n",
    "    sequence_out = nodu2[i + sequence_length]  # (2,)\n",
    "    out = nodu2_to_int[str(sequence_out)]    \n",
    "    for sq in sequence_in:\n",
    "        out1 = nodu2_to_int[str(sq)]\n",
    "        #print(sq, out1)\n",
    "        sequence_in2.append(out1)\n",
    "    #print(sequence_in2,'=======> ',out)\n",
    "    \n",
    "    network_input.append(sequence_in2)\n",
    "    network_output.append(out)   "
   ]
  },
  {
   "cell_type": "code",
   "execution_count": 46,
   "metadata": {},
   "outputs": [
    {
     "data": {
      "text/plain": [
       "101"
      ]
     },
     "execution_count": 46,
     "metadata": {},
     "output_type": "execute_result"
    }
   ],
   "source": [
    "n_vocab4"
   ]
  },
  {
   "cell_type": "code",
   "execution_count": 47,
   "metadata": {},
   "outputs": [
    {
     "data": {
      "text/plain": [
       "(2150, 20)"
      ]
     },
     "execution_count": 47,
     "metadata": {},
     "output_type": "execute_result"
    }
   ],
   "source": [
    "np.shape(network_input)"
   ]
  },
  {
   "cell_type": "code",
   "execution_count": 48,
   "metadata": {},
   "outputs": [],
   "source": [
    "network_input2 = np_utils.to_categorical(network_input)\n",
    "network_input2 = np.array(network_input2)"
   ]
  },
  {
   "cell_type": "code",
   "execution_count": 49,
   "metadata": {},
   "outputs": [
    {
     "data": {
      "text/plain": [
       "(2150, 20, 101)"
      ]
     },
     "execution_count": 49,
     "metadata": {},
     "output_type": "execute_result"
    }
   ],
   "source": [
    "np.shape(network_input2)"
   ]
  },
  {
   "cell_type": "code",
   "execution_count": 50,
   "metadata": {},
   "outputs": [],
   "source": [
    "with open(\"network_input2.pickle\", 'wb') as filepath:\n",
    "        pickle.dump(network_input2,filepath)"
   ]
  },
  {
   "cell_type": "code",
   "execution_count": 51,
   "metadata": {},
   "outputs": [
    {
     "name": "stdout",
     "output_type": "stream",
     "text": [
      "[[0. 0. 0. ... 0. 0. 0.]\n",
      " [0. 0. 0. ... 0. 0. 0.]\n",
      " [0. 0. 0. ... 0. 0. 0.]\n",
      " ...\n",
      " [0. 0. 0. ... 0. 0. 0.]\n",
      " [0. 0. 0. ... 0. 0. 0.]\n",
      " [0. 0. 0. ... 0. 0. 0.]]\n",
      "27\n"
     ]
    }
   ],
   "source": [
    "print(network_input2[0])\n",
    "print(np.argmax(network_input2[0]))"
   ]
  },
  {
   "cell_type": "code",
   "execution_count": 52,
   "metadata": {},
   "outputs": [],
   "source": [
    "network_output = np_utils.to_categorical(network_output)"
   ]
  },
  {
   "cell_type": "code",
   "execution_count": 53,
   "metadata": {},
   "outputs": [
    {
     "data": {
      "text/plain": [
       "(2150, 101)"
      ]
     },
     "execution_count": 53,
     "metadata": {},
     "output_type": "execute_result"
    }
   ],
   "source": [
    "np.shape(network_output)"
   ]
  },
  {
   "cell_type": "markdown",
   "metadata": {},
   "source": [
    "### Creating model"
   ]
  },
  {
   "cell_type": "code",
   "execution_count": 54,
   "metadata": {},
   "outputs": [],
   "source": [
    "def create_network(network_input, n_vocab):\n",
    "    \"\"\" create the structure of the neural network \"\"\"\n",
    "    model = Sequential()\n",
    "    model.add(LSTM(\n",
    "        512,\n",
    "        input_shape=(network_input.shape[1], network_input.shape[2]),\n",
    "        return_sequences=True\n",
    "    ))\n",
    "    model.add(Dropout(0.3))\n",
    "    model.add(LSTM(512, return_sequences=True))\n",
    "    model.add(Dropout(0.3))\n",
    "    model.add(LSTM(512))\n",
    "    model.add(Dense(256))\n",
    "    model.add(Dropout(0.3))\n",
    "    model.add(Dense(n_vocab))\n",
    "    model.add(Activation('softmax'))\n",
    "    model.compile(loss='categorical_crossentropy', optimizer='rmsprop')\n",
    "    return model"
   ]
  },
  {
   "cell_type": "code",
   "execution_count": 55,
   "metadata": {},
   "outputs": [],
   "source": [
    "model = create_network(network_input2, n_vocab4)"
   ]
  },
  {
   "cell_type": "code",
   "execution_count": 56,
   "metadata": {},
   "outputs": [
    {
     "name": "stdout",
     "output_type": "stream",
     "text": [
      "_________________________________________________________________\n",
      "Layer (type)                 Output Shape              Param #   \n",
      "=================================================================\n",
      "lstm_1 (LSTM)                (None, 20, 512)           1257472   \n",
      "_________________________________________________________________\n",
      "dropout_1 (Dropout)          (None, 20, 512)           0         \n",
      "_________________________________________________________________\n",
      "lstm_2 (LSTM)                (None, 20, 512)           2099200   \n",
      "_________________________________________________________________\n",
      "dropout_2 (Dropout)          (None, 20, 512)           0         \n",
      "_________________________________________________________________\n",
      "lstm_3 (LSTM)                (None, 512)               2099200   \n",
      "_________________________________________________________________\n",
      "dense_1 (Dense)              (None, 256)               131328    \n",
      "_________________________________________________________________\n",
      "dropout_3 (Dropout)          (None, 256)               0         \n",
      "_________________________________________________________________\n",
      "dense_2 (Dense)              (None, 101)               25957     \n",
      "_________________________________________________________________\n",
      "activation_1 (Activation)    (None, 101)               0         \n",
      "=================================================================\n",
      "Total params: 5,613,157\n",
      "Trainable params: 5,613,157\n",
      "Non-trainable params: 0\n",
      "_________________________________________________________________\n"
     ]
    }
   ],
   "source": [
    "model.summary()"
   ]
  },
  {
   "cell_type": "code",
   "execution_count": 57,
   "metadata": {
    "scrolled": true
   },
   "outputs": [
    {
     "data": {
      "image/png": "[encoded data removed]",
      "text/plain": [
       "<IPython.core.display.Image object>"
      ]
     },
     "execution_count": 57,
     "metadata": {},
     "output_type": "execute_result"
    }
   ],
   "source": [
    "model_name = 'lstm1'\n",
    "from keras.utils import plot_model\n",
    "plot_model(model, to_file='{}/model_{}.png'.format(outDir, model_name), show_shapes=True)\n",
    "from IPython.display import Image\n",
    "Image('{}/model_{}.png'.format(outDir, model_name))"
   ]
  },
  {
   "cell_type": "code",
   "execution_count": 58,
   "metadata": {},
   "outputs": [],
   "source": [
    "#filepath = \"/content/drive/My Drive/{epoch:02d}-{loss:.4f}.h5\"\n",
    "fnmodel = '{}/model_{}_{}.h5'.format(outDir, folder_name, nb_epoch)\n",
    "filepath = outDir+\"/\"+folder_name+\"_{epoch:02d}-{loss:.4f}.h5\"\n",
    "\n",
    "checkpoint = ModelCheckpoint(filepath, monitor='loss',verbose=1,\n",
    "                             save_best_only=True, mode='min')\n",
    "\n",
    "callbacks_list = [checkpoint]"
   ]
  },
  {
   "cell_type": "code",
   "execution_count": 59,
   "metadata": {
    "scrolled": true
   },
   "outputs": [
    {
     "name": "stdout",
     "output_type": "stream",
     "text": [
      "Epoch 1/100\n",
      "2150/2150 [==============================] - 3s 2ms/step - loss: 4.0947\n",
      "\n",
      "Epoch 00001: loss improved from inf to 4.09472, saving model to out/minyo_01-4.0947.h5\n",
      "Epoch 2/100\n",
      "2150/2150 [==============================] - 2s 732us/step - loss: 3.4911\n",
      "\n",
      "Epoch 00002: loss improved from 4.09472 to 3.49110, saving model to out/minyo_02-3.4911.h5\n",
      "Epoch 3/100\n",
      "2150/2150 [==============================] - 2s 735us/step - loss: 3.3495\n",
      "\n",
      "Epoch 00003: loss improved from 3.49110 to 3.34953, saving model to out/minyo_03-3.3495.h5\n",
      "Epoch 4/100\n",
      "2150/2150 [==============================] - 2s 724us/step - loss: 3.2721\n",
      "\n",
      "Epoch 00004: loss improved from 3.34953 to 3.27207, saving model to out/minyo_04-3.2721.h5\n",
      "Epoch 5/100\n",
      "2150/2150 [==============================] - 2s 728us/step - loss: 3.1317\n",
      "\n",
      "Epoch 00005: loss improved from 3.27207 to 3.13168, saving model to out/minyo_05-3.1317.h5\n",
      "Epoch 6/100\n",
      "2150/2150 [==============================] - 2s 737us/step - loss: 3.0411\n",
      "\n",
      "Epoch 00006: loss improved from 3.13168 to 3.04106, saving model to out/minyo_06-3.0411.h5\n",
      "Epoch 7/100\n",
      "2150/2150 [==============================] - 2s 736us/step - loss: 2.9219\n",
      "\n",
      "Epoch 00007: loss improved from 3.04106 to 2.92192, saving model to out/minyo_07-2.9219.h5\n",
      "Epoch 8/100\n",
      "2150/2150 [==============================] - 2s 727us/step - loss: 2.8483\n",
      "\n",
      "Epoch 00008: loss improved from 2.92192 to 2.84833, saving model to out/minyo_08-2.8483.h5\n",
      "Epoch 9/100\n",
      "2150/2150 [==============================] - 2s 727us/step - loss: 2.7515\n",
      "\n",
      "Epoch 00009: loss improved from 2.84833 to 2.75150, saving model to out/minyo_09-2.7515.h5\n",
      "Epoch 10/100\n",
      "2150/2150 [==============================] - 2s 729us/step - loss: 2.6815\n",
      "\n",
      "Epoch 00010: loss improved from 2.75150 to 2.68147, saving model to out/minyo_10-2.6815.h5\n",
      "Epoch 11/100\n",
      "2150/2150 [==============================] - 2s 729us/step - loss: 2.5919\n",
      "\n",
      "Epoch 00011: loss improved from 2.68147 to 2.59189, saving model to out/minyo_11-2.5919.h5\n",
      "Epoch 12/100\n",
      "2150/2150 [==============================] - 2s 726us/step - loss: 2.4982\n",
      "\n",
      "Epoch 00012: loss improved from 2.59189 to 2.49816, saving model to out/minyo_12-2.4982.h5\n",
      "Epoch 13/100\n",
      "2150/2150 [==============================] - 2s 733us/step - loss: 2.4433\n",
      "\n",
      "Epoch 00013: loss improved from 2.49816 to 2.44331, saving model to out/minyo_13-2.4433.h5\n",
      "Epoch 14/100\n",
      "2150/2150 [==============================] - 2s 738us/step - loss: 2.3562\n",
      "\n",
      "Epoch 00014: loss improved from 2.44331 to 2.35622, saving model to out/minyo_14-2.3562.h5\n",
      "Epoch 15/100\n",
      "2150/2150 [==============================] - 2s 733us/step - loss: 2.2836\n",
      "\n",
      "Epoch 00015: loss improved from 2.35622 to 2.28355, saving model to out/minyo_15-2.2836.h5\n",
      "Epoch 16/100\n",
      "2150/2150 [==============================] - 2s 732us/step - loss: 2.2042\n",
      "\n",
      "Epoch 00016: loss improved from 2.28355 to 2.20423, saving model to out/minyo_16-2.2042.h5\n",
      "Epoch 17/100\n",
      "2150/2150 [==============================] - 2s 735us/step - loss: 2.1617\n",
      "\n",
      "Epoch 00017: loss improved from 2.20423 to 2.16169, saving model to out/minyo_17-2.1617.h5\n",
      "Epoch 18/100\n",
      "2150/2150 [==============================] - 2s 732us/step - loss: 2.0645\n",
      "\n",
      "Epoch 00018: loss improved from 2.16169 to 2.06450, saving model to out/minyo_18-2.0645.h5\n",
      "Epoch 19/100\n",
      "2150/2150 [==============================] - 2s 729us/step - loss: 1.9850\n",
      "\n",
      "Epoch 00019: loss improved from 2.06450 to 1.98496, saving model to out/minyo_19-1.9850.h5\n",
      "Epoch 20/100\n",
      "2150/2150 [==============================] - 2s 730us/step - loss: 1.9227\n",
      "\n",
      "Epoch 00020: loss improved from 1.98496 to 1.92266, saving model to out/minyo_20-1.9227.h5\n",
      "Epoch 21/100\n",
      "2150/2150 [==============================] - 2s 733us/step - loss: 1.8513\n",
      "\n",
      "Epoch 00021: loss improved from 1.92266 to 1.85135, saving model to out/minyo_21-1.8513.h5\n",
      "Epoch 22/100\n",
      "2150/2150 [==============================] - 2s 728us/step - loss: 1.7743\n",
      "\n",
      "Epoch 00022: loss improved from 1.85135 to 1.77427, saving model to out/minyo_22-1.7743.h5\n",
      "Epoch 23/100\n",
      "2150/2150 [==============================] - 2s 733us/step - loss: 1.6897\n",
      "\n",
      "Epoch 00023: loss improved from 1.77427 to 1.68966, saving model to out/minyo_23-1.6897.h5\n",
      "Epoch 24/100\n",
      "2150/2150 [==============================] - 2s 724us/step - loss: 1.6289\n",
      "\n",
      "Epoch 00024: loss improved from 1.68966 to 1.62893, saving model to out/minyo_24-1.6289.h5\n",
      "Epoch 25/100\n",
      "2150/2150 [==============================] - 2s 721us/step - loss: 1.5399\n",
      "\n",
      "Epoch 00025: loss improved from 1.62893 to 1.53991, saving model to out/minyo_25-1.5399.h5\n",
      "Epoch 26/100\n",
      "2150/2150 [==============================] - 2s 726us/step - loss: 1.4735\n",
      "\n",
      "Epoch 00026: loss improved from 1.53991 to 1.47345, saving model to out/minyo_26-1.4735.h5\n",
      "Epoch 27/100\n",
      "2150/2150 [==============================] - 2s 732us/step - loss: 1.3939\n",
      "\n",
      "Epoch 00027: loss improved from 1.47345 to 1.39391, saving model to out/minyo_27-1.3939.h5\n",
      "Epoch 28/100\n",
      "2150/2150 [==============================] - 2s 731us/step - loss: 1.2786\n",
      "\n",
      "Epoch 00028: loss improved from 1.39391 to 1.27861, saving model to out/minyo_28-1.2786.h5\n",
      "Epoch 29/100\n",
      "2150/2150 [==============================] - 2s 729us/step - loss: 1.2500\n",
      "\n",
      "Epoch 00029: loss improved from 1.27861 to 1.25001, saving model to out/minyo_29-1.2500.h5\n",
      "Epoch 30/100\n",
      "2150/2150 [==============================] - 2s 735us/step - loss: 1.1485\n",
      "\n",
      "Epoch 00030: loss improved from 1.25001 to 1.14846, saving model to out/minyo_30-1.1485.h5\n",
      "Epoch 31/100\n",
      "2150/2150 [==============================] - 2s 732us/step - loss: 1.0613\n",
      "\n",
      "Epoch 00031: loss improved from 1.14846 to 1.06131, saving model to out/minyo_31-1.0613.h5\n",
      "Epoch 32/100\n",
      "2150/2150 [==============================] - 2s 734us/step - loss: 0.9849\n",
      "\n",
      "Epoch 00032: loss improved from 1.06131 to 0.98490, saving model to out/minyo_32-0.9849.h5\n",
      "Epoch 33/100\n",
      "2150/2150 [==============================] - 2s 731us/step - loss: 0.9156\n",
      "\n",
      "Epoch 00033: loss improved from 0.98490 to 0.91559, saving model to out/minyo_33-0.9156.h5\n",
      "Epoch 34/100\n",
      "2150/2150 [==============================] - 2s 728us/step - loss: 0.8786\n",
      "\n",
      "Epoch 00034: loss improved from 0.91559 to 0.87859, saving model to out/minyo_34-0.8786.h5\n",
      "Epoch 35/100\n",
      "2150/2150 [==============================] - 2s 732us/step - loss: 0.7833\n",
      "\n",
      "Epoch 00035: loss improved from 0.87859 to 0.78328, saving model to out/minyo_35-0.7833.h5\n",
      "Epoch 36/100\n",
      "2150/2150 [==============================] - 2s 734us/step - loss: 0.7247\n",
      "\n",
      "Epoch 00036: loss improved from 0.78328 to 0.72472, saving model to out/minyo_36-0.7247.h5\n",
      "Epoch 37/100\n",
      "2150/2150 [==============================] - 2s 731us/step - loss: 0.6527\n",
      "\n",
      "Epoch 00037: loss improved from 0.72472 to 0.65268, saving model to out/minyo_37-0.6527.h5\n",
      "Epoch 38/100\n",
      "2150/2150 [==============================] - 2s 739us/step - loss: 0.6080\n",
      "\n",
      "Epoch 00038: loss improved from 0.65268 to 0.60805, saving model to out/minyo_38-0.6080.h5\n",
      "Epoch 39/100\n",
      "2150/2150 [==============================] - 2s 726us/step - loss: 0.5487\n",
      "\n",
      "Epoch 00039: loss improved from 0.60805 to 0.54866, saving model to out/minyo_39-0.5487.h5\n",
      "Epoch 40/100\n",
      "2150/2150 [==============================] - 2s 733us/step - loss: 0.5187\n",
      "\n",
      "Epoch 00040: loss improved from 0.54866 to 0.51874, saving model to out/minyo_40-0.5187.h5\n",
      "Epoch 41/100\n",
      "2150/2150 [==============================] - 2s 741us/step - loss: 0.4630\n",
      "\n",
      "Epoch 00041: loss improved from 0.51874 to 0.46304, saving model to out/minyo_41-0.4630.h5\n",
      "Epoch 42/100\n",
      "2150/2150 [==============================] - 2s 736us/step - loss: 0.4340\n",
      "\n",
      "Epoch 00042: loss improved from 0.46304 to 0.43397, saving model to out/minyo_42-0.4340.h5\n",
      "Epoch 43/100\n",
      "2150/2150 [==============================] - 2s 730us/step - loss: 0.3646\n",
      "\n",
      "Epoch 00043: loss improved from 0.43397 to 0.36458, saving model to out/minyo_43-0.3646.h5\n",
      "Epoch 44/100\n",
      "2150/2150 [==============================] - 2s 725us/step - loss: 0.3775\n",
      "\n",
      "Epoch 00044: loss did not improve from 0.36458\n",
      "Epoch 45/100\n",
      "2150/2150 [==============================] - 2s 731us/step - loss: 0.3443\n",
      "\n",
      "Epoch 00045: loss improved from 0.36458 to 0.34430, saving model to out/minyo_45-0.3443.h5\n",
      "Epoch 46/100\n",
      "2150/2150 [==============================] - 2s 731us/step - loss: 0.3180\n",
      "\n",
      "Epoch 00046: loss improved from 0.34430 to 0.31803, saving model to out/minyo_46-0.3180.h5\n",
      "Epoch 47/100\n"
     ]
    },
    {
     "name": "stdout",
     "output_type": "stream",
     "text": [
      "2150/2150 [==============================] - 2s 729us/step - loss: 0.2954\n",
      "\n",
      "Epoch 00047: loss improved from 0.31803 to 0.29537, saving model to out/minyo_47-0.2954.h5\n",
      "Epoch 48/100\n",
      "2150/2150 [==============================] - 2s 737us/step - loss: 0.2611\n",
      "\n",
      "Epoch 00048: loss improved from 0.29537 to 0.26110, saving model to out/minyo_48-0.2611.h5\n",
      "Epoch 49/100\n",
      "2150/2150 [==============================] - 2s 726us/step - loss: 0.2511\n",
      "\n",
      "Epoch 00049: loss improved from 0.26110 to 0.25106, saving model to out/minyo_49-0.2511.h5\n",
      "Epoch 50/100\n",
      "2150/2150 [==============================] - 2s 741us/step - loss: 0.2434\n",
      "\n",
      "Epoch 00050: loss improved from 0.25106 to 0.24342, saving model to out/minyo_50-0.2434.h5\n",
      "Epoch 51/100\n",
      "2150/2150 [==============================] - 2s 732us/step - loss: 0.2053\n",
      "\n",
      "Epoch 00051: loss improved from 0.24342 to 0.20529, saving model to out/minyo_51-0.2053.h5\n",
      "Epoch 52/100\n",
      "2150/2150 [==============================] - 2s 739us/step - loss: 0.2135\n",
      "\n",
      "Epoch 00052: loss did not improve from 0.20529\n",
      "Epoch 53/100\n",
      "2150/2150 [==============================] - 2s 728us/step - loss: 0.1987\n",
      "\n",
      "Epoch 00053: loss improved from 0.20529 to 0.19868, saving model to out/minyo_53-0.1987.h5\n",
      "Epoch 54/100\n",
      "2150/2150 [==============================] - 2s 741us/step - loss: 0.1767\n",
      "\n",
      "Epoch 00054: loss improved from 0.19868 to 0.17666, saving model to out/minyo_54-0.1767.h5\n",
      "Epoch 55/100\n",
      "2150/2150 [==============================] - 2s 730us/step - loss: 0.1758\n",
      "\n",
      "Epoch 00055: loss improved from 0.17666 to 0.17582, saving model to out/minyo_55-0.1758.h5\n",
      "Epoch 56/100\n",
      "2150/2150 [==============================] - 2s 735us/step - loss: 0.2015\n",
      "\n",
      "Epoch 00056: loss did not improve from 0.17582\n",
      "Epoch 57/100\n",
      "2150/2150 [==============================] - 2s 733us/step - loss: 0.1661\n",
      "\n",
      "Epoch 00057: loss improved from 0.17582 to 0.16614, saving model to out/minyo_57-0.1661.h5\n",
      "Epoch 58/100\n",
      "2150/2150 [==============================] - 2s 730us/step - loss: 0.1396\n",
      "\n",
      "Epoch 00058: loss improved from 0.16614 to 0.13956, saving model to out/minyo_58-0.1396.h5\n",
      "Epoch 59/100\n",
      "2150/2150 [==============================] - 2s 727us/step - loss: 0.1493\n",
      "\n",
      "Epoch 00059: loss did not improve from 0.13956\n",
      "Epoch 60/100\n",
      "2150/2150 [==============================] - 2s 725us/step - loss: 0.1766\n",
      "\n",
      "Epoch 00060: loss did not improve from 0.13956\n",
      "Epoch 61/100\n",
      "2150/2150 [==============================] - 2s 728us/step - loss: 0.1087\n",
      "\n",
      "Epoch 00061: loss improved from 0.13956 to 0.10875, saving model to out/minyo_61-0.1087.h5\n",
      "Epoch 62/100\n",
      "2150/2150 [==============================] - 2s 730us/step - loss: 0.1530\n",
      "\n",
      "Epoch 00062: loss did not improve from 0.10875\n",
      "Epoch 63/100\n",
      "2150/2150 [==============================] - 2s 735us/step - loss: 0.1283\n",
      "\n",
      "Epoch 00063: loss did not improve from 0.10875\n",
      "Epoch 64/100\n",
      "2150/2150 [==============================] - 2s 731us/step - loss: 0.1130\n",
      "\n",
      "Epoch 00064: loss did not improve from 0.10875\n",
      "Epoch 65/100\n",
      "2150/2150 [==============================] - 2s 726us/step - loss: 0.1577\n",
      "\n",
      "Epoch 00065: loss did not improve from 0.10875\n",
      "Epoch 66/100\n",
      "2150/2150 [==============================] - 2s 731us/step - loss: 0.1315\n",
      "\n",
      "Epoch 00066: loss did not improve from 0.10875\n",
      "Epoch 67/100\n",
      "2150/2150 [==============================] - 2s 729us/step - loss: 0.1051\n",
      "\n",
      "Epoch 00067: loss improved from 0.10875 to 0.10513, saving model to out/minyo_67-0.1051.h5\n",
      "Epoch 68/100\n",
      "2150/2150 [==============================] - 2s 732us/step - loss: 0.1231\n",
      "\n",
      "Epoch 00068: loss did not improve from 0.10513\n",
      "Epoch 69/100\n",
      "2150/2150 [==============================] - 2s 730us/step - loss: 0.1081\n",
      "\n",
      "Epoch 00069: loss did not improve from 0.10513\n",
      "Epoch 70/100\n",
      "2150/2150 [==============================] - 2s 735us/step - loss: 0.1101\n",
      "\n",
      "Epoch 00070: loss did not improve from 0.10513\n",
      "Epoch 71/100\n",
      "2150/2150 [==============================] - 2s 728us/step - loss: 0.1127\n",
      "\n",
      "Epoch 00071: loss did not improve from 0.10513\n",
      "Epoch 72/100\n",
      "2150/2150 [==============================] - 2s 733us/step - loss: 0.1092\n",
      "\n",
      "Epoch 00072: loss did not improve from 0.10513\n",
      "Epoch 73/100\n",
      "2150/2150 [==============================] - 2s 734us/step - loss: 0.1421\n",
      "\n",
      "Epoch 00073: loss did not improve from 0.10513\n",
      "Epoch 74/100\n",
      "2150/2150 [==============================] - 2s 727us/step - loss: 0.0710\n",
      "\n",
      "Epoch 00074: loss improved from 0.10513 to 0.07096, saving model to out/minyo_74-0.0710.h5\n",
      "Epoch 75/100\n",
      "2150/2150 [==============================] - 2s 732us/step - loss: 0.0975\n",
      "\n",
      "Epoch 00075: loss did not improve from 0.07096\n",
      "Epoch 76/100\n",
      "2150/2150 [==============================] - 2s 734us/step - loss: 0.0755\n",
      "\n",
      "Epoch 00076: loss did not improve from 0.07096\n",
      "Epoch 77/100\n",
      "2150/2150 [==============================] - 2s 733us/step - loss: 0.1123\n",
      "\n",
      "Epoch 00077: loss did not improve from 0.07096\n",
      "Epoch 78/100\n",
      "2150/2150 [==============================] - 2s 732us/step - loss: 0.0751\n",
      "\n",
      "Epoch 00078: loss did not improve from 0.07096\n",
      "Epoch 79/100\n",
      "2150/2150 [==============================] - 2s 729us/step - loss: 0.0901\n",
      "\n",
      "Epoch 00079: loss did not improve from 0.07096\n",
      "Epoch 80/100\n",
      "2150/2150 [==============================] - 2s 736us/step - loss: 0.0948\n",
      "\n",
      "Epoch 00080: loss did not improve from 0.07096\n",
      "Epoch 81/100\n",
      "2150/2150 [==============================] - 2s 723us/step - loss: 0.1165\n",
      "\n",
      "Epoch 00081: loss did not improve from 0.07096\n",
      "Epoch 82/100\n",
      "2150/2150 [==============================] - 2s 733us/step - loss: 0.1073\n",
      "\n",
      "Epoch 00082: loss did not improve from 0.07096\n",
      "Epoch 83/100\n",
      "2150/2150 [==============================] - 2s 734us/step - loss: 0.0657\n",
      "\n",
      "Epoch 00083: loss improved from 0.07096 to 0.06570, saving model to out/minyo_83-0.0657.h5\n",
      "Epoch 84/100\n",
      "2150/2150 [==============================] - 2s 727us/step - loss: 0.0914\n",
      "\n",
      "Epoch 00084: loss did not improve from 0.06570\n",
      "Epoch 85/100\n",
      "2150/2150 [==============================] - 2s 727us/step - loss: 0.0973\n",
      "\n",
      "Epoch 00085: loss did not improve from 0.06570\n",
      "Epoch 86/100\n",
      "2150/2150 [==============================] - 2s 731us/step - loss: 0.1078\n",
      "\n",
      "Epoch 00086: loss did not improve from 0.06570\n",
      "Epoch 87/100\n",
      "2150/2150 [==============================] - 2s 729us/step - loss: 0.0585\n",
      "\n",
      "Epoch 00087: loss improved from 0.06570 to 0.05853, saving model to out/minyo_87-0.0585.h5\n",
      "Epoch 88/100\n",
      "2150/2150 [==============================] - 2s 729us/step - loss: 0.0867\n",
      "\n",
      "Epoch 00088: loss did not improve from 0.05853\n",
      "Epoch 89/100\n",
      "2150/2150 [==============================] - 2s 730us/step - loss: 0.0665\n",
      "\n",
      "Epoch 00089: loss did not improve from 0.05853\n",
      "Epoch 90/100\n",
      "2150/2150 [==============================] - 2s 732us/step - loss: 0.0802\n",
      "\n",
      "Epoch 00090: loss did not improve from 0.05853\n",
      "Epoch 91/100\n",
      "2150/2150 [==============================] - 2s 736us/step - loss: 0.0930\n",
      "\n",
      "Epoch 00091: loss did not improve from 0.05853\n",
      "Epoch 92/100\n",
      "2150/2150 [==============================] - 2s 729us/step - loss: 0.0858\n",
      "\n",
      "Epoch 00092: loss did not improve from 0.05853\n",
      "Epoch 93/100\n",
      "2150/2150 [==============================] - 2s 735us/step - loss: 0.0711\n",
      "\n",
      "Epoch 00093: loss did not improve from 0.05853\n",
      "Epoch 94/100\n",
      "2150/2150 [==============================] - 2s 730us/step - loss: 0.0642\n",
      "\n",
      "Epoch 00094: loss did not improve from 0.05853\n",
      "Epoch 95/100\n",
      "2150/2150 [==============================] - 2s 732us/step - loss: 0.0481\n",
      "\n",
      "Epoch 00095: loss improved from 0.05853 to 0.04806, saving model to out/minyo_95-0.0481.h5\n",
      "Epoch 96/100\n",
      "2150/2150 [==============================] - 2s 731us/step - loss: 0.0792\n",
      "\n",
      "Epoch 00096: loss did not improve from 0.04806\n",
      "Epoch 97/100\n",
      "2150/2150 [==============================] - 2s 725us/step - loss: 0.0548\n",
      "\n",
      "Epoch 00097: loss did not improve from 0.04806\n",
      "Epoch 98/100\n",
      "2150/2150 [==============================] - 2s 732us/step - loss: 0.0780\n",
      "\n",
      "Epoch 00098: loss did not improve from 0.04806\n",
      "Epoch 99/100\n",
      "2150/2150 [==============================] - 2s 727us/step - loss: 0.0879\n",
      "\n",
      "Epoch 00099: loss did not improve from 0.04806\n",
      "Epoch 100/100\n",
      "2150/2150 [==============================] - 2s 728us/step - loss: 0.0723\n",
      "\n",
      "Epoch 00100: loss did not improve from 0.04806\n",
      "done...saved a model !..out/model_minyo_100.h5\n",
      "CPU times: user 5min 3s, sys: 24.8 s, total: 5min 27s\n",
      "Wall time: 2min 42s\n"
     ]
    }
   ],
   "source": [
    "%%time\n",
    "if to_Train:\n",
    "    hist = model.fit(network_input2, network_output, epochs=nb_epoch, batch_size=64, \n",
    "              callbacks=callbacks_list)\n",
    "    model.save(fnmodel)\n",
    "    print('done...saved a model !..{}'.format(fnmodel))\n",
    "else:\n",
    "    #model = load_model(fnmodel)\n",
    "    print('done...loaded a model !..{}'.format(fnmodel))"
   ]
  },
  {
   "cell_type": "code",
   "execution_count": 60,
   "metadata": {},
   "outputs": [
    {
     "data": {
      "image/png": "[encoded data removed]",
      "text/plain": [
       "<Figure size 432x288 with 2 Axes>"
      ]
     },
     "metadata": {
      "image/png": {
       "height": 277,
       "width": 408
      },
      "needs_background": "light"
     },
     "output_type": "display_data"
    }
   ],
   "source": [
    "if to_Train:\n",
    "    fig, loss_ax = plt.subplots()\n",
    "    acc_ax = loss_ax.twinx()\n",
    "\n",
    "    loss_ax.plot(hist.history['loss'],  label='train loss')\n",
    "    #loss_ax.plot(hist.history['val_loss'], 'r', label='val loss')\n",
    "    loss_ax.set_xlabel('epoch')\n",
    "    loss_ax.set_ylabel('loss')\n",
    "    loss_ax.legend(loc='upper right')\n",
    "    loss_ax.set_title(folder_name)\n",
    "    #acc_ax.plot(hist.history['acc'], 'b', label='train acc')\n",
    "    #acc_ax.plot(hist.history['val_acc'], 'g', label='val acc')\n",
    "    #acc_ax.set_ylabel('accuracy')\n",
    "    #acc_ax.legend(loc='upper center')\n",
    "    \n",
    "    fig.savefig('out/{}{}_loss.png'.format(folder_name,sequence_length), dpi=fig.dpi)\n",
    "    fig.savefig('out/{}{}_loss.svg'.format(folder_name,sequence_length))"
   ]
  },
  {
   "cell_type": "code",
   "execution_count": 61,
   "metadata": {},
   "outputs": [
    {
     "data": {
      "text/plain": [
       "'out/model_minyo_100.h5'"
      ]
     },
     "execution_count": 61,
     "metadata": {},
     "output_type": "execute_result"
    }
   ],
   "source": [
    "fnmodel"
   ]
  }
 ],
 "metadata": {
  "kernelspec": {
   "display_name": "Python 3",
   "language": "python",
   "name": "python3"
  },
  "language_info": {
   "codemirror_mode": {
    "name": "ipython",
    "version": 3
   },
   "file_extension": ".py",
   "mimetype": "text/x-python",
   "name": "python",
   "nbconvert_exporter": "python",
   "pygments_lexer": "ipython3",
   "version": "3.6.8"
  }
 },
 "nbformat": 4,
 "nbformat_minor": 2
}
