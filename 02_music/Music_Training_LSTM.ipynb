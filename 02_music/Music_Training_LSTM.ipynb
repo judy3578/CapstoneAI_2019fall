{
 "cells": [
  {
   "cell_type": "markdown",
   "metadata": {},
   "source": [
    "## Music generation with LSTM in Keras\n",
    "* Music generation with LSTM in Keras, https://github.com/unmonoqueteclea/DeepLearning-Notebooks/tree/master/LSTM-Music-Generation\n",
    "\n",
    "* https://unmonoqueteclea.github.io/rnn/lstm/lstm/\n",
    "\n",
    "* https://towardsdatascience.com/how-to-generate-music-using-a-lstm-neural-network-in-keras-68786834d4c5\n",
    "\n",
    "* http://www.piano-midi.de/"
   ]
  },
  {
   "cell_type": "code",
   "execution_count": 1,
   "metadata": {},
   "outputs": [
    {
     "name": "stdout",
     "output_type": "stream",
     "text": [
      "/home/hyejoo/work/repos/Capstone19/02_music\r\n"
     ]
    }
   ],
   "source": [
    "!pwd\n",
    "import os\n",
    "os.environ[\"CUDA_DEVICE_ORDER\"]=\"PCI_BUS_ID\"\n",
    "os.environ[\"CUDA_VISIBLE_DEVICES\"]=\"{}\".format(0) # gpu idx"
   ]
  },
  {
   "cell_type": "code",
   "execution_count": 2,
   "metadata": {},
   "outputs": [],
   "source": [
    "import warnings\n",
    "warnings.filterwarnings(\"ignore\")"
   ]
  },
  {
   "cell_type": "code",
   "execution_count": 3,
   "metadata": {},
   "outputs": [
    {
     "name": "stderr",
     "output_type": "stream",
     "text": [
      "Using TensorFlow backend.\n"
     ]
    }
   ],
   "source": [
    "import glob\n",
    "import pickle\n",
    "import numpy\n",
    "import matplotlib.pyplot as plt\n",
    "plt.rcParams['figure.figsize'] = (8,6) # Make the figures a bit bigger\n",
    "    \n",
    "from music21 import converter, instrument, note, chord, stream\n",
    "from keras.models import Sequential\n",
    "from keras.layers import Dense, Dropout, LSTM, Activation\n",
    "from keras.utils import np_utils\n",
    "from keras.callbacks import ModelCheckpoint"
   ]
  },
  {
   "cell_type": "code",
   "execution_count": 4,
   "metadata": {},
   "outputs": [],
   "source": [
    "home_music = 'midi_files/'"
   ]
  },
  {
   "cell_type": "code",
   "execution_count": 5,
   "metadata": {},
   "outputs": [],
   "source": [
    "outDir = 'out'\n",
    "if not os.path.exists(outDir):\n",
    "    os.makedirs(outDir)"
   ]
  },
  {
   "cell_type": "markdown",
   "metadata": {},
   "source": [
    "### Go "
   ]
  },
  {
   "cell_type": "code",
   "execution_count": 10,
   "metadata": {},
   "outputs": [],
   "source": [
    "#folder_name = 'chopin'\n",
    "#folder_name = 'brahms1'\n",
    "#folder_name = 'childsong'\n",
    "folder_name = 'chopin1'\n",
    "#folder_name = 'mozart'\n",
    "#folder_name = 'game_1'\n",
    "#folder_name = 'zazz_carol'\n",
    "#folder_name = 'disney'\n",
    "#folder_name = 'bit_music'\n",
    "#folder_name = 'National_Anthems'\n",
    "\n",
    "to_Train = True\n",
    "nb_epoch = 100 \n",
    "sequence_length = 20\n",
    "sqln = 'sq'+str(sequence_length)"
   ]
  },
  {
   "cell_type": "code",
   "execution_count": 11,
   "metadata": {},
   "outputs": [],
   "source": [
    "pickle_name = 'notes_'+folder_name+'_'+sqln+'.pickle'\n",
    "to_load_from_pickle = False #False "
   ]
  },
  {
   "cell_type": "code",
   "execution_count": 12,
   "metadata": {},
   "outputs": [
    {
     "name": "stdout",
     "output_type": "stream",
     "text": [
      " Parsing file  1   midi_files/chopin1/chp_op18_format0.mid"
     ]
    }
   ],
   "source": [
    "if to_load_from_pickle:\n",
    "    \n",
    "    notes = pickle.load( open(pickle_name, \"rb\" ) )\n",
    "    \n",
    "else:    \n",
    "    notes = []\n",
    "    for i,file in enumerate(glob.glob(home_music+folder_name+\"/*.mid\")):\n",
    "        #print(i, file)\n",
    "        midi = converter.parse(file)\n",
    "        print('\\r', 'Parsing file ', i, \" \",file, end='')\n",
    "        notes_to_parse = None\n",
    "        try: # file has instrument parts\n",
    "            s2 = instrument.partitionByInstrument(midi)\n",
    "            notes_to_parse = s2.parts[0].recurse() \n",
    "\n",
    "        except: # file has notes in a flat structure\n",
    "            notes_to_parse = midi.flat.notes\n",
    "            print('------ FLAT Structure --------')\n",
    "\n",
    "        for element in notes_to_parse:\n",
    "            if isinstance(element, note.Note):\n",
    "                str1 = str(element.pitch)\n",
    "                notes.append(str1)\n",
    "                #print('pitch --->', str1)\n",
    "            elif isinstance(element, chord.Chord):\n",
    "                str1 = '.'.join(str(n) for n in element.normalOrder)\n",
    "                #print(str1, '<-------', element.normalOrder)\n",
    "                notes.append(str1)\n",
    "    \n",
    "    with open(pickle_name, 'wb') as filepath:\n",
    "        pickle.dump(notes, filepath)"
   ]
  },
  {
   "cell_type": "code",
   "execution_count": 13,
   "metadata": {},
   "outputs": [
    {
     "data": {
      "text/plain": [
       "6300"
      ]
     },
     "execution_count": 13,
     "metadata": {},
     "output_type": "execute_result"
    }
   ],
   "source": [
    "len(notes)"
   ]
  },
  {
   "cell_type": "code",
   "execution_count": 14,
   "metadata": {},
   "outputs": [
    {
     "data": {
      "text/plain": [
       "204"
      ]
     },
     "execution_count": 14,
     "metadata": {},
     "output_type": "execute_result"
    }
   ],
   "source": [
    "# Count different possible outputs\n",
    "n_vocab = (len(set(notes)))\n",
    "n_vocab"
   ]
  },
  {
   "cell_type": "markdown",
   "metadata": {},
   "source": [
    "### data processing"
   ]
  },
  {
   "cell_type": "code",
   "execution_count": 15,
   "metadata": {},
   "outputs": [],
   "source": [
    "#sequence_length = 50 #100\n",
    "# get all pitch names\n",
    "pitchnames = sorted(set(item for item in notes))"
   ]
  },
  {
   "cell_type": "code",
   "execution_count": 16,
   "metadata": {
    "scrolled": true
   },
   "outputs": [
    {
     "data": {
      "text/plain": [
       "['0',\n",
       " '0.1.5.8',\n",
       " '0.3',\n",
       " '0.3.4.6.8',\n",
       " '0.3.5',\n",
       " '0.3.5.6.8',\n",
       " '0.3.6',\n",
       " '0.3.6.8',\n",
       " '0.3.6.9',\n",
       " '0.4',\n",
       " '0.5',\n",
       " '0.6',\n",
       " '1',\n",
       " '1.3',\n",
       " '1.3.7',\n",
       " '1.4',\n",
       " '1.4.6.9',\n",
       " '1.4.7.10',\n",
       " '1.5',\n",
       " '1.5.8',\n",
       " '1.5.9',\n",
       " '1.6',\n",
       " '1.7',\n",
       " '10',\n",
       " '10.0.3.5.6',\n",
       " '10.0.3.6',\n",
       " '10.0.4',\n",
       " '10.0.4.5',\n",
       " '10.1',\n",
       " '10.1.3',\n",
       " '10.1.5',\n",
       " '10.2',\n",
       " '10.2.5',\n",
       " '10.3',\n",
       " '11',\n",
       " '11.1',\n",
       " '11.2',\n",
       " '11.2.5',\n",
       " '11.2.6',\n",
       " '11.3',\n",
       " '11.4',\n",
       " '2',\n",
       " '2.3',\n",
       " '2.3.8',\n",
       " '2.4.8',\n",
       " '2.5',\n",
       " '2.5.8',\n",
       " '2.5.8.10',\n",
       " '2.5.8.11',\n",
       " '2.6',\n",
       " '2.6.10',\n",
       " '2.7',\n",
       " '2.8',\n",
       " '3',\n",
       " '3.5',\n",
       " '3.5.8.11',\n",
       " '3.5.9',\n",
       " '3.6',\n",
       " '3.6.10',\n",
       " '3.6.8',\n",
       " '3.7',\n",
       " '3.7.10',\n",
       " '3.8',\n",
       " '3.9',\n",
       " '4',\n",
       " '4.10',\n",
       " '4.5',\n",
       " '4.5.7.8',\n",
       " '4.6',\n",
       " '4.7',\n",
       " '4.7.10',\n",
       " '4.7.10.0',\n",
       " '4.7.10.0.1',\n",
       " '4.7.9',\n",
       " '4.8',\n",
       " '4.8.11',\n",
       " '4.9',\n",
       " '5',\n",
       " '5.10',\n",
       " '5.11',\n",
       " '5.6.8.0',\n",
       " '5.7',\n",
       " '5.7.11',\n",
       " '5.8',\n",
       " '5.8.0',\n",
       " '5.8.10',\n",
       " '5.8.10.11',\n",
       " '5.8.11',\n",
       " '5.8.11.1',\n",
       " '5.9',\n",
       " '5.9.0',\n",
       " '6',\n",
       " '6.10',\n",
       " '6.10.0',\n",
       " '6.10.1',\n",
       " '6.11',\n",
       " '6.7.0',\n",
       " '6.8',\n",
       " '6.8.0',\n",
       " '6.8.11',\n",
       " '6.8.11.2',\n",
       " '6.9',\n",
       " '6.9.0',\n",
       " '6.9.1',\n",
       " '6.9.11',\n",
       " '6.9.11.2',\n",
       " '7',\n",
       " '7.0',\n",
       " '7.10',\n",
       " '7.10.1',\n",
       " '7.10.1.3',\n",
       " '7.10.2',\n",
       " '7.11.2',\n",
       " '8',\n",
       " '8.0',\n",
       " '8.0.3',\n",
       " '8.1',\n",
       " '8.10',\n",
       " '8.10.0.4',\n",
       " '8.10.1',\n",
       " '8.10.1.4',\n",
       " '8.10.2',\n",
       " '8.10.2.3',\n",
       " '8.11',\n",
       " '8.11.1',\n",
       " '8.11.2',\n",
       " '8.11.2.3',\n",
       " '8.11.3',\n",
       " '8.9.0.3',\n",
       " '9',\n",
       " '9.0',\n",
       " '9.0.2',\n",
       " '9.0.3',\n",
       " '9.0.3.5',\n",
       " '9.1',\n",
       " '9.1.4',\n",
       " '9.2',\n",
       " 'A2',\n",
       " 'A3',\n",
       " 'A4',\n",
       " 'A5',\n",
       " 'A6',\n",
       " 'B-2',\n",
       " 'B-3',\n",
       " 'B-4',\n",
       " 'B-5',\n",
       " 'B-6',\n",
       " 'B1',\n",
       " 'B2',\n",
       " 'B3',\n",
       " 'B4',\n",
       " 'B5',\n",
       " 'B6',\n",
       " 'C#2',\n",
       " 'C#3',\n",
       " 'C#4',\n",
       " 'C#5',\n",
       " 'C#6',\n",
       " 'C#7',\n",
       " 'C3',\n",
       " 'C4',\n",
       " 'C5',\n",
       " 'C6',\n",
       " 'C7',\n",
       " 'D1',\n",
       " 'D3',\n",
       " 'D4',\n",
       " 'D5',\n",
       " 'D6',\n",
       " 'E-2',\n",
       " 'E-3',\n",
       " 'E-4',\n",
       " 'E-5',\n",
       " 'E-6',\n",
       " 'E-7',\n",
       " 'E1',\n",
       " 'E2',\n",
       " 'E3',\n",
       " 'E4',\n",
       " 'E5',\n",
       " 'E6',\n",
       " 'E7',\n",
       " 'F#2',\n",
       " 'F#3',\n",
       " 'F#4',\n",
       " 'F#5',\n",
       " 'F#6',\n",
       " 'F2',\n",
       " 'F3',\n",
       " 'F4',\n",
       " 'F5',\n",
       " 'F6',\n",
       " 'F7',\n",
       " 'G#1',\n",
       " 'G#2',\n",
       " 'G#3',\n",
       " 'G#4',\n",
       " 'G#5',\n",
       " 'G#6',\n",
       " 'G2',\n",
       " 'G3',\n",
       " 'G4',\n",
       " 'G5',\n",
       " 'G6']"
      ]
     },
     "execution_count": 16,
     "metadata": {},
     "output_type": "execute_result"
    }
   ],
   "source": [
    "pitchnames"
   ]
  },
  {
   "cell_type": "code",
   "execution_count": 17,
   "metadata": {},
   "outputs": [
    {
     "data": {
      "text/plain": [
       "20"
      ]
     },
     "execution_count": 17,
     "metadata": {},
     "output_type": "execute_result"
    }
   ],
   "source": [
    "sequence_length"
   ]
  },
  {
   "cell_type": "code",
   "execution_count": 18,
   "metadata": {},
   "outputs": [],
   "source": [
    "# create a dictionary to map pitches to integers\n",
    "note_to_int = dict((note, number) for number, note in enumerate(pitchnames))"
   ]
  },
  {
   "cell_type": "code",
   "execution_count": 19,
   "metadata": {},
   "outputs": [],
   "source": [
    "pickle_name1 = 'note_to_int_'+folder_name+'_'+sqln+'.pickle'\n",
    "with open(pickle_name1, 'wb') as filepath:\n",
    "    pickle.dump(note_to_int, filepath)"
   ]
  },
  {
   "cell_type": "code",
   "execution_count": 20,
   "metadata": {},
   "outputs": [],
   "source": [
    "#note_to_int"
   ]
  },
  {
   "cell_type": "code",
   "execution_count": 21,
   "metadata": {},
   "outputs": [
    {
     "data": {
      "text/plain": [
       "6280"
      ]
     },
     "execution_count": 21,
     "metadata": {},
     "output_type": "execute_result"
    }
   ],
   "source": [
    "len(notes)- sequence_length"
   ]
  },
  {
   "cell_type": "code",
   "execution_count": 22,
   "metadata": {},
   "outputs": [],
   "source": [
    "network_input = []\n",
    "network_output = []\n",
    "# create input sequences and the corresponding outputs\n",
    "for i in range(0, len(notes) - sequence_length, 1):\n",
    "    sequence_in = notes[i:i + sequence_length] # Size sequence_length\n",
    "    \n",
    "    sequence_out = notes[i + sequence_length]  # Size 1\n",
    "    \n",
    "    \n",
    "    \n",
    "    # Map pitches of sequence_in to integers\n",
    "    in1 = [note_to_int[char] for char in sequence_in]\n",
    "    network_input.append(in1)\n",
    "    \n",
    "    # Map integer of sequence_out to an integer\n",
    "    out1 = note_to_int[sequence_out]\n",
    "    network_output.append(out1)\n",
    "    \n",
    "    #print('{} ~~ {} --> {}\\t{}-->{}'.format(i,i + sequence_length-1, i + sequence_length, in1, out1))"
   ]
  },
  {
   "cell_type": "code",
   "execution_count": 23,
   "metadata": {},
   "outputs": [],
   "source": [
    "n_patterns = len(network_input)\n",
    "\n",
    "# reshape the input into a format compatible with LSTM layers\n",
    "network_input = numpy.reshape(network_input, (n_patterns, sequence_length, 1))\n",
    "# normalize input\n",
    "network_input = network_input / float(n_vocab)\n",
    "#one-hot encoding\n",
    "\n",
    "\n",
    "\n",
    "network_output = np_utils.to_categorical(network_output)"
   ]
  },
  {
   "cell_type": "code",
   "execution_count": 24,
   "metadata": {},
   "outputs": [
    {
     "data": {
      "text/plain": [
       "6280"
      ]
     },
     "execution_count": 24,
     "metadata": {},
     "output_type": "execute_result"
    }
   ],
   "source": [
    "n_patterns"
   ]
  },
  {
   "cell_type": "code",
   "execution_count": 25,
   "metadata": {},
   "outputs": [
    {
     "data": {
      "text/plain": [
       "array([[0.69117647],\n",
       "       [0.71568627],\n",
       "       [0.85294118],\n",
       "       [0.29411765],\n",
       "       [0.99509804],\n",
       "       [0.97058824],\n",
       "       [0.69117647],\n",
       "       [0.71568627],\n",
       "       [0.85294118],\n",
       "       [0.52941176],\n",
       "       [0.99509804],\n",
       "       [0.97058824],\n",
       "       [0.69117647],\n",
       "       [0.71568627],\n",
       "       [0.29411765],\n",
       "       [0.29411765],\n",
       "       [0.29901961],\n",
       "       [0.29901961],\n",
       "       [0.29901961],\n",
       "       [0.29901961]])"
      ]
     },
     "execution_count": 25,
     "metadata": {},
     "output_type": "execute_result"
    }
   ],
   "source": [
    "network_input[6279]"
   ]
  },
  {
   "cell_type": "code",
   "execution_count": 26,
   "metadata": {},
   "outputs": [
    {
     "data": {
      "text/plain": [
       "(6280, 20, 1)"
      ]
     },
     "execution_count": 26,
     "metadata": {},
     "output_type": "execute_result"
    }
   ],
   "source": [
    "network_input.shape"
   ]
  },
  {
   "cell_type": "code",
   "execution_count": 27,
   "metadata": {},
   "outputs": [
    {
     "data": {
      "text/plain": [
       "(6280, 204)"
      ]
     },
     "execution_count": 27,
     "metadata": {},
     "output_type": "execute_result"
    }
   ],
   "source": [
    "network_output.shape"
   ]
  },
  {
   "cell_type": "code",
   "execution_count": 28,
   "metadata": {},
   "outputs": [
    {
     "data": {
      "text/plain": [
       "array([0., 0., 0., 0., 0., 0., 0., 1., 0., 0., 0., 0., 0., 0., 0., 0., 0.,\n",
       "       0., 0., 0., 0., 0., 0., 0., 0., 0., 0., 0., 0., 0., 0., 0., 0., 0.,\n",
       "       0., 0., 0., 0., 0., 0., 0., 0., 0., 0., 0., 0., 0., 0., 0., 0., 0.,\n",
       "       0., 0., 0., 0., 0., 0., 0., 0., 0., 0., 0., 0., 0., 0., 0., 0., 0.,\n",
       "       0., 0., 0., 0., 0., 0., 0., 0., 0., 0., 0., 0., 0., 0., 0., 0., 0.,\n",
       "       0., 0., 0., 0., 0., 0., 0., 0., 0., 0., 0., 0., 0., 0., 0., 0., 0.,\n",
       "       0., 0., 0., 0., 0., 0., 0., 0., 0., 0., 0., 0., 0., 0., 0., 0., 0.,\n",
       "       0., 0., 0., 0., 0., 0., 0., 0., 0., 0., 0., 0., 0., 0., 0., 0., 0.,\n",
       "       0., 0., 0., 0., 0., 0., 0., 0., 0., 0., 0., 0., 0., 0., 0., 0., 0.,\n",
       "       0., 0., 0., 0., 0., 0., 0., 0., 0., 0., 0., 0., 0., 0., 0., 0., 0.,\n",
       "       0., 0., 0., 0., 0., 0., 0., 0., 0., 0., 0., 0., 0., 0., 0., 0., 0.,\n",
       "       0., 0., 0., 0., 0., 0., 0., 0., 0., 0., 0., 0., 0., 0., 0., 0., 0.],\n",
       "      dtype=float32)"
      ]
     },
     "execution_count": 28,
     "metadata": {},
     "output_type": "execute_result"
    }
   ],
   "source": [
    "network_output[5]"
   ]
  },
  {
   "cell_type": "markdown",
   "metadata": {},
   "source": [
    "### Creating model"
   ]
  },
  {
   "cell_type": "code",
   "execution_count": 29,
   "metadata": {},
   "outputs": [],
   "source": [
    "def create_network(network_input, n_vocab):\n",
    "    \"\"\" create the structure of the neural network \"\"\"\n",
    "    model = Sequential()\n",
    "    model.add(LSTM(\n",
    "        512,\n",
    "        input_shape=(network_input.shape[1], network_input.shape[2]),\n",
    "        return_sequences=True\n",
    "    ))\n",
    "    model.add(Dropout(0.3))\n",
    "    model.add(LSTM(512, return_sequences=True))\n",
    "    model.add(Dropout(0.3))\n",
    "    model.add(LSTM(512))\n",
    "    model.add(Dense(256))\n",
    "    model.add(Dropout(0.3))\n",
    "    model.add(Dense(n_vocab))\n",
    "    model.add(Activation('softmax'))\n",
    "    model.compile(loss='categorical_crossentropy', optimizer='rmsprop')\n",
    "    return model"
   ]
  },
  {
   "cell_type": "code",
   "execution_count": 30,
   "metadata": {},
   "outputs": [
    {
     "data": {
      "text/plain": [
       "204"
      ]
     },
     "execution_count": 30,
     "metadata": {},
     "output_type": "execute_result"
    }
   ],
   "source": [
    "n_vocab"
   ]
  },
  {
   "cell_type": "code",
   "execution_count": 31,
   "metadata": {},
   "outputs": [
    {
     "name": "stdout",
     "output_type": "stream",
     "text": [
      "_________________________________________________________________\n",
      "Layer (type)                 Output Shape              Param #   \n",
      "=================================================================\n",
      "lstm_1 (LSTM)                (None, 20, 512)           1052672   \n",
      "_________________________________________________________________\n",
      "dropout_1 (Dropout)          (None, 20, 512)           0         \n",
      "_________________________________________________________________\n",
      "lstm_2 (LSTM)                (None, 20, 512)           2099200   \n",
      "_________________________________________________________________\n",
      "dropout_2 (Dropout)          (None, 20, 512)           0         \n",
      "_________________________________________________________________\n",
      "lstm_3 (LSTM)                (None, 512)               2099200   \n",
      "_________________________________________________________________\n",
      "dense_1 (Dense)              (None, 256)               131328    \n",
      "_________________________________________________________________\n",
      "dropout_3 (Dropout)          (None, 256)               0         \n",
      "_________________________________________________________________\n",
      "dense_2 (Dense)              (None, 204)               52428     \n",
      "_________________________________________________________________\n",
      "activation_1 (Activation)    (None, 204)               0         \n",
      "=================================================================\n",
      "Total params: 5,434,828\n",
      "Trainable params: 5,434,828\n",
      "Non-trainable params: 0\n",
      "_________________________________________________________________\n"
     ]
    }
   ],
   "source": [
    "model = create_network(network_input,n_vocab)\n",
    "model.summary()"
   ]
  },
  {
   "cell_type": "code",
   "execution_count": 32,
   "metadata": {
    "scrolled": true
   },
   "outputs": [
    {
     "data": {
      "image/png": "[encoded data removed]",
      "text/plain": [
       "<IPython.core.display.Image object>"
      ]
     },
     "execution_count": 32,
     "metadata": {},
     "output_type": "execute_result"
    }
   ],
   "source": [
    "model_name = 'lstm1'\n",
    "from keras.utils import plot_model\n",
    "plot_model(model, to_file='{}/model_{}.png'.format(outDir, model_name), show_shapes=True)\n",
    "from IPython.display import Image\n",
    "Image('{}/model_{}.png'.format(outDir, model_name))"
   ]
  },
  {
   "cell_type": "code",
   "execution_count": 33,
   "metadata": {},
   "outputs": [],
   "source": [
    "# In case we want to use previously trained weights\n",
    "#weights = \"\"\n",
    "#if(len(weights)>0): model.load_weights(weights)"
   ]
  },
  {
   "cell_type": "code",
   "execution_count": 34,
   "metadata": {},
   "outputs": [],
   "source": [
    "#filepath = \"/content/drive/My Drive/{epoch:02d}-{loss:.4f}.h5\"\n",
    "fnmodel = '{}/model_{}_{}.h5'.format(outDir, folder_name, nb_epoch)\n",
    "filepath = outDir+\"/\"+folder_name+\"_{epoch:02d}-{loss:.4f}.h5\"\n",
    "\n",
    "checkpoint = ModelCheckpoint(filepath, monitor='loss',verbose=1,\n",
    "                             save_best_only=True, mode='min')\n",
    "\n",
    "callbacks_list = [checkpoint]"
   ]
  },
  {
   "cell_type": "code",
   "execution_count": 35,
   "metadata": {
    "scrolled": true
   },
   "outputs": [
    {
     "name": "stdout",
     "output_type": "stream",
     "text": [
      "Epoch 1/100\n",
      "6280/6280 [==============================] - 6s 1ms/step - loss: 4.7941\n",
      "\n",
      "Epoch 00001: loss improved from inf to 4.79408, saving model to out/chopin1_01-4.7941.h5\n",
      "Epoch 2/100\n",
      "6280/6280 [==============================] - 5s 726us/step - loss: 4.5058\n",
      "\n",
      "Epoch 00002: loss improved from 4.79408 to 4.50584, saving model to out/chopin1_02-4.5058.h5\n",
      "Epoch 3/100\n",
      "6280/6280 [==============================] - 5s 726us/step - loss: 4.4262\n",
      "\n",
      "Epoch 00003: loss improved from 4.50584 to 4.42622, saving model to out/chopin1_03-4.4262.h5\n",
      "Epoch 4/100\n",
      "6280/6280 [==============================] - 5s 726us/step - loss: 4.3830\n",
      "\n",
      "Epoch 00004: loss improved from 4.42622 to 4.38301, saving model to out/chopin1_04-4.3830.h5\n",
      "Epoch 5/100\n",
      "6280/6280 [==============================] - 5s 725us/step - loss: 4.3283\n",
      "\n",
      "Epoch 00005: loss improved from 4.38301 to 4.32828, saving model to out/chopin1_05-4.3283.h5\n",
      "Epoch 6/100\n",
      "6280/6280 [==============================] - 5s 728us/step - loss: 4.2682\n",
      "\n",
      "Epoch 00006: loss improved from 4.32828 to 4.26818, saving model to out/chopin1_06-4.2682.h5\n",
      "Epoch 7/100\n",
      "6280/6280 [==============================] - 5s 725us/step - loss: 4.1996\n",
      "\n",
      "Epoch 00007: loss improved from 4.26818 to 4.19964, saving model to out/chopin1_07-4.1996.h5\n",
      "Epoch 8/100\n",
      "6280/6280 [==============================] - 5s 725us/step - loss: 4.1091\n",
      "\n",
      "Epoch 00008: loss improved from 4.19964 to 4.10910, saving model to out/chopin1_08-4.1091.h5\n",
      "Epoch 9/100\n",
      "6280/6280 [==============================] - 5s 723us/step - loss: 4.0254\n",
      "\n",
      "Epoch 00009: loss improved from 4.10910 to 4.02541, saving model to out/chopin1_09-4.0254.h5\n",
      "Epoch 10/100\n",
      "6280/6280 [==============================] - 5s 721us/step - loss: 3.8994\n",
      "\n",
      "Epoch 00010: loss improved from 4.02541 to 3.89936, saving model to out/chopin1_10-3.8994.h5\n",
      "Epoch 11/100\n",
      "6280/6280 [==============================] - 5s 724us/step - loss: 3.7167\n",
      "\n",
      "Epoch 00011: loss improved from 3.89936 to 3.71667, saving model to out/chopin1_11-3.7167.h5\n",
      "Epoch 12/100\n",
      "6280/6280 [==============================] - 5s 725us/step - loss: 3.5418\n",
      "\n",
      "Epoch 00012: loss improved from 3.71667 to 3.54182, saving model to out/chopin1_12-3.5418.h5\n",
      "Epoch 13/100\n",
      "6280/6280 [==============================] - 5s 724us/step - loss: 3.3410\n",
      "\n",
      "Epoch 00013: loss improved from 3.54182 to 3.34099, saving model to out/chopin1_13-3.3410.h5\n",
      "Epoch 14/100\n",
      "6280/6280 [==============================] - 5s 724us/step - loss: 3.0926\n",
      "\n",
      "Epoch 00014: loss improved from 3.34099 to 3.09264, saving model to out/chopin1_14-3.0926.h5\n",
      "Epoch 15/100\n",
      "6280/6280 [==============================] - 5s 724us/step - loss: 2.8140\n",
      "\n",
      "Epoch 00015: loss improved from 3.09264 to 2.81401, saving model to out/chopin1_15-2.8140.h5\n",
      "Epoch 16/100\n",
      "6280/6280 [==============================] - 5s 727us/step - loss: 2.5664\n",
      "\n",
      "Epoch 00016: loss improved from 2.81401 to 2.56644, saving model to out/chopin1_16-2.5664.h5\n",
      "Epoch 17/100\n",
      "6280/6280 [==============================] - 5s 725us/step - loss: 2.2970\n",
      "\n",
      "Epoch 00017: loss improved from 2.56644 to 2.29695, saving model to out/chopin1_17-2.2970.h5\n",
      "Epoch 18/100\n",
      "6280/6280 [==============================] - 5s 726us/step - loss: 2.0142\n",
      "\n",
      "Epoch 00018: loss improved from 2.29695 to 2.01421, saving model to out/chopin1_18-2.0142.h5\n",
      "Epoch 19/100\n",
      "6280/6280 [==============================] - 5s 725us/step - loss: 1.7747\n",
      "\n",
      "Epoch 00019: loss improved from 2.01421 to 1.77466, saving model to out/chopin1_19-1.7747.h5\n",
      "Epoch 20/100\n",
      "6280/6280 [==============================] - 5s 726us/step - loss: 1.5181\n",
      "\n",
      "Epoch 00020: loss improved from 1.77466 to 1.51814, saving model to out/chopin1_20-1.5181.h5\n",
      "Epoch 21/100\n",
      "6280/6280 [==============================] - 5s 726us/step - loss: 1.3216\n",
      "\n",
      "Epoch 00021: loss improved from 1.51814 to 1.32163, saving model to out/chopin1_21-1.3216.h5\n",
      "Epoch 22/100\n",
      "6280/6280 [==============================] - 5s 722us/step - loss: 1.1122\n",
      "\n",
      "Epoch 00022: loss improved from 1.32163 to 1.11219, saving model to out/chopin1_22-1.1122.h5\n",
      "Epoch 23/100\n",
      "6280/6280 [==============================] - 5s 725us/step - loss: 0.9519\n",
      "\n",
      "Epoch 00023: loss improved from 1.11219 to 0.95189, saving model to out/chopin1_23-0.9519.h5\n",
      "Epoch 24/100\n",
      "6280/6280 [==============================] - 5s 725us/step - loss: 0.7895\n",
      "\n",
      "Epoch 00024: loss improved from 0.95189 to 0.78950, saving model to out/chopin1_24-0.7895.h5\n",
      "Epoch 25/100\n",
      "6280/6280 [==============================] - 5s 725us/step - loss: 0.6713\n",
      "\n",
      "Epoch 00025: loss improved from 0.78950 to 0.67130, saving model to out/chopin1_25-0.6713.h5\n",
      "Epoch 26/100\n",
      "6280/6280 [==============================] - 5s 722us/step - loss: 0.5898\n",
      "\n",
      "Epoch 00026: loss improved from 0.67130 to 0.58977, saving model to out/chopin1_26-0.5898.h5\n",
      "Epoch 27/100\n",
      "6280/6280 [==============================] - 5s 729us/step - loss: 0.5002\n",
      "\n",
      "Epoch 00027: loss improved from 0.58977 to 0.50025, saving model to out/chopin1_27-0.5002.h5\n",
      "Epoch 28/100\n",
      "6280/6280 [==============================] - 5s 725us/step - loss: 0.4524\n",
      "\n",
      "Epoch 00028: loss improved from 0.50025 to 0.45239, saving model to out/chopin1_28-0.4524.h5\n",
      "Epoch 29/100\n",
      "6280/6280 [==============================] - 5s 727us/step - loss: 0.4227\n",
      "\n",
      "Epoch 00029: loss improved from 0.45239 to 0.42271, saving model to out/chopin1_29-0.4227.h5\n",
      "Epoch 30/100\n",
      "6280/6280 [==============================] - 5s 725us/step - loss: 0.3704\n",
      "\n",
      "Epoch 00030: loss improved from 0.42271 to 0.37045, saving model to out/chopin1_30-0.3704.h5\n",
      "Epoch 31/100\n",
      "6280/6280 [==============================] - 5s 726us/step - loss: 0.3265\n",
      "\n",
      "Epoch 00031: loss improved from 0.37045 to 0.32647, saving model to out/chopin1_31-0.3265.h5\n",
      "Epoch 32/100\n",
      "6280/6280 [==============================] - 5s 726us/step - loss: 0.3336\n",
      "\n",
      "Epoch 00032: loss did not improve from 0.32647\n",
      "Epoch 33/100\n",
      "6280/6280 [==============================] - 5s 727us/step - loss: 0.3008\n",
      "\n",
      "Epoch 00033: loss improved from 0.32647 to 0.30084, saving model to out/chopin1_33-0.3008.h5\n",
      "Epoch 34/100\n",
      "6280/6280 [==============================] - 5s 723us/step - loss: 0.2860\n",
      "\n",
      "Epoch 00034: loss improved from 0.30084 to 0.28596, saving model to out/chopin1_34-0.2860.h5\n",
      "Epoch 35/100\n",
      "6280/6280 [==============================] - 5s 727us/step - loss: 0.2794\n",
      "\n",
      "Epoch 00035: loss improved from 0.28596 to 0.27938, saving model to out/chopin1_35-0.2794.h5\n",
      "Epoch 36/100\n",
      "6280/6280 [==============================] - 5s 723us/step - loss: 0.2581\n",
      "\n",
      "Epoch 00036: loss improved from 0.27938 to 0.25815, saving model to out/chopin1_36-0.2581.h5\n",
      "Epoch 37/100\n",
      "6280/6280 [==============================] - 5s 725us/step - loss: 0.2498\n",
      "\n",
      "Epoch 00037: loss improved from 0.25815 to 0.24984, saving model to out/chopin1_37-0.2498.h5\n",
      "Epoch 38/100\n",
      "6280/6280 [==============================] - 5s 726us/step - loss: 0.2295\n",
      "\n",
      "Epoch 00038: loss improved from 0.24984 to 0.22951, saving model to out/chopin1_38-0.2295.h5\n",
      "Epoch 39/100\n",
      "6280/6280 [==============================] - 5s 723us/step - loss: 0.2236\n",
      "\n",
      "Epoch 00039: loss improved from 0.22951 to 0.22359, saving model to out/chopin1_39-0.2236.h5\n",
      "Epoch 40/100\n",
      "6280/6280 [==============================] - 5s 725us/step - loss: 0.2314\n",
      "\n",
      "Epoch 00040: loss did not improve from 0.22359\n",
      "Epoch 41/100\n",
      "6280/6280 [==============================] - 5s 725us/step - loss: 0.1943\n",
      "\n",
      "Epoch 00041: loss improved from 0.22359 to 0.19432, saving model to out/chopin1_41-0.1943.h5\n",
      "Epoch 42/100\n",
      "6280/6280 [==============================] - 5s 729us/step - loss: 0.1937\n",
      "\n",
      "Epoch 00042: loss improved from 0.19432 to 0.19365, saving model to out/chopin1_42-0.1937.h5\n",
      "Epoch 43/100\n",
      "6280/6280 [==============================] - 5s 726us/step - loss: 0.2050\n",
      "\n",
      "Epoch 00043: loss did not improve from 0.19365\n",
      "Epoch 44/100\n",
      "6280/6280 [==============================] - 5s 726us/step - loss: 0.2052\n",
      "\n",
      "Epoch 00044: loss did not improve from 0.19365\n",
      "Epoch 45/100\n",
      "6280/6280 [==============================] - 5s 725us/step - loss: 0.1813\n",
      "\n",
      "Epoch 00045: loss improved from 0.19365 to 0.18135, saving model to out/chopin1_45-0.1813.h5\n",
      "Epoch 46/100\n",
      "6280/6280 [==============================] - 5s 723us/step - loss: 0.1856\n",
      "\n",
      "Epoch 00046: loss did not improve from 0.18135\n",
      "Epoch 47/100\n",
      "6280/6280 [==============================] - 5s 726us/step - loss: 0.1816\n",
      "\n",
      "Epoch 00047: loss did not improve from 0.18135\n",
      "Epoch 48/100\n"
     ]
    },
    {
     "name": "stdout",
     "output_type": "stream",
     "text": [
      "6280/6280 [==============================] - 5s 725us/step - loss: 0.1700\n",
      "\n",
      "Epoch 00048: loss improved from 0.18135 to 0.16997, saving model to out/chopin1_48-0.1700.h5\n",
      "Epoch 49/100\n",
      "6280/6280 [==============================] - 5s 724us/step - loss: 0.1708\n",
      "\n",
      "Epoch 00049: loss did not improve from 0.16997\n",
      "Epoch 50/100\n",
      "6280/6280 [==============================] - 5s 722us/step - loss: 0.1609\n",
      "\n",
      "Epoch 00050: loss improved from 0.16997 to 0.16085, saving model to out/chopin1_50-0.1609.h5\n",
      "Epoch 51/100\n",
      "6280/6280 [==============================] - 5s 728us/step - loss: 0.1739\n",
      "\n",
      "Epoch 00051: loss did not improve from 0.16085\n",
      "Epoch 52/100\n",
      "6280/6280 [==============================] - 5s 726us/step - loss: 0.1513\n",
      "\n",
      "Epoch 00052: loss improved from 0.16085 to 0.15127, saving model to out/chopin1_52-0.1513.h5\n",
      "Epoch 53/100\n",
      "6280/6280 [==============================] - 5s 726us/step - loss: 0.1504\n",
      "\n",
      "Epoch 00053: loss improved from 0.15127 to 0.15043, saving model to out/chopin1_53-0.1504.h5\n",
      "Epoch 54/100\n",
      "6280/6280 [==============================] - 5s 726us/step - loss: 0.1475\n",
      "\n",
      "Epoch 00054: loss improved from 0.15043 to 0.14753, saving model to out/chopin1_54-0.1475.h5\n",
      "Epoch 55/100\n",
      "6280/6280 [==============================] - 5s 724us/step - loss: 0.1388\n",
      "\n",
      "Epoch 00055: loss improved from 0.14753 to 0.13883, saving model to out/chopin1_55-0.1388.h5\n",
      "Epoch 56/100\n",
      "6280/6280 [==============================] - 5s 727us/step - loss: 0.1392\n",
      "\n",
      "Epoch 00056: loss did not improve from 0.13883\n",
      "Epoch 57/100\n",
      "6280/6280 [==============================] - 5s 728us/step - loss: 0.1491\n",
      "\n",
      "Epoch 00057: loss did not improve from 0.13883\n",
      "Epoch 58/100\n",
      "6280/6280 [==============================] - 5s 727us/step - loss: 0.1446\n",
      "\n",
      "Epoch 00058: loss did not improve from 0.13883\n",
      "Epoch 59/100\n",
      "6280/6280 [==============================] - 5s 724us/step - loss: 0.1411\n",
      "\n",
      "Epoch 00059: loss did not improve from 0.13883\n",
      "Epoch 60/100\n",
      "6280/6280 [==============================] - 5s 725us/step - loss: 0.1386\n",
      "\n",
      "Epoch 00060: loss improved from 0.13883 to 0.13858, saving model to out/chopin1_60-0.1386.h5\n",
      "Epoch 61/100\n",
      "6280/6280 [==============================] - 5s 728us/step - loss: 0.1326\n",
      "\n",
      "Epoch 00061: loss improved from 0.13858 to 0.13261, saving model to out/chopin1_61-0.1326.h5\n",
      "Epoch 62/100\n",
      "6280/6280 [==============================] - 5s 728us/step - loss: 0.1327\n",
      "\n",
      "Epoch 00062: loss did not improve from 0.13261\n",
      "Epoch 63/100\n",
      "6280/6280 [==============================] - 5s 725us/step - loss: 0.1244\n",
      "\n",
      "Epoch 00063: loss improved from 0.13261 to 0.12443, saving model to out/chopin1_63-0.1244.h5\n",
      "Epoch 64/100\n",
      "6280/6280 [==============================] - 5s 725us/step - loss: 0.1215\n",
      "\n",
      "Epoch 00064: loss improved from 0.12443 to 0.12152, saving model to out/chopin1_64-0.1215.h5\n",
      "Epoch 65/100\n",
      "6280/6280 [==============================] - 5s 727us/step - loss: 0.1287\n",
      "\n",
      "Epoch 00065: loss did not improve from 0.12152\n",
      "Epoch 66/100\n",
      "6280/6280 [==============================] - 5s 724us/step - loss: 0.1061\n",
      "\n",
      "Epoch 00066: loss improved from 0.12152 to 0.10615, saving model to out/chopin1_66-0.1061.h5\n",
      "Epoch 67/100\n",
      "6280/6280 [==============================] - 5s 725us/step - loss: 0.1196\n",
      "\n",
      "Epoch 00067: loss did not improve from 0.10615\n",
      "Epoch 68/100\n",
      "6280/6280 [==============================] - 5s 726us/step - loss: 0.1160\n",
      "\n",
      "Epoch 00068: loss did not improve from 0.10615\n",
      "Epoch 69/100\n",
      "6280/6280 [==============================] - 5s 729us/step - loss: 0.1289\n",
      "\n",
      "Epoch 00069: loss did not improve from 0.10615\n",
      "Epoch 70/100\n",
      "6280/6280 [==============================] - 5s 727us/step - loss: 0.1050\n",
      "\n",
      "Epoch 00070: loss improved from 0.10615 to 0.10504, saving model to out/chopin1_70-0.1050.h5\n",
      "Epoch 71/100\n",
      "6280/6280 [==============================] - 5s 725us/step - loss: 0.1229\n",
      "\n",
      "Epoch 00071: loss did not improve from 0.10504\n",
      "Epoch 72/100\n",
      "6280/6280 [==============================] - 5s 724us/step - loss: 0.1105\n",
      "\n",
      "Epoch 00072: loss did not improve from 0.10504\n",
      "Epoch 73/100\n",
      "6280/6280 [==============================] - 5s 723us/step - loss: 0.1139\n",
      "\n",
      "Epoch 00073: loss did not improve from 0.10504\n",
      "Epoch 74/100\n",
      "6280/6280 [==============================] - 5s 726us/step - loss: 0.1053\n",
      "\n",
      "Epoch 00074: loss did not improve from 0.10504\n",
      "Epoch 75/100\n",
      "6280/6280 [==============================] - 5s 731us/step - loss: 0.1095\n",
      "\n",
      "Epoch 00075: loss did not improve from 0.10504\n",
      "Epoch 76/100\n",
      "6280/6280 [==============================] - 5s 728us/step - loss: 0.1057\n",
      "\n",
      "Epoch 00076: loss did not improve from 0.10504\n",
      "Epoch 77/100\n",
      "6280/6280 [==============================] - 5s 726us/step - loss: 0.1092\n",
      "\n",
      "Epoch 00077: loss did not improve from 0.10504\n",
      "Epoch 78/100\n",
      "6280/6280 [==============================] - 5s 727us/step - loss: 0.1071\n",
      "\n",
      "Epoch 00078: loss did not improve from 0.10504\n",
      "Epoch 79/100\n",
      "6280/6280 [==============================] - 5s 724us/step - loss: 0.1011\n",
      "\n",
      "Epoch 00079: loss improved from 0.10504 to 0.10108, saving model to out/chopin1_79-0.1011.h5\n",
      "Epoch 80/100\n",
      "6280/6280 [==============================] - 5s 722us/step - loss: 0.1026\n",
      "\n",
      "Epoch 00080: loss did not improve from 0.10108\n",
      "Epoch 81/100\n",
      "6280/6280 [==============================] - 5s 725us/step - loss: 0.1022\n",
      "\n",
      "Epoch 00081: loss did not improve from 0.10108\n",
      "Epoch 82/100\n",
      "6280/6280 [==============================] - 5s 725us/step - loss: 0.0926\n",
      "\n",
      "Epoch 00082: loss improved from 0.10108 to 0.09262, saving model to out/chopin1_82-0.0926.h5\n",
      "Epoch 83/100\n",
      "6280/6280 [==============================] - 5s 724us/step - loss: 0.0956\n",
      "\n",
      "Epoch 00083: loss did not improve from 0.09262\n",
      "Epoch 84/100\n",
      "6280/6280 [==============================] - 5s 724us/step - loss: 0.1048\n",
      "\n",
      "Epoch 00084: loss did not improve from 0.09262\n",
      "Epoch 85/100\n",
      "6280/6280 [==============================] - 5s 728us/step - loss: 0.0979\n",
      "\n",
      "Epoch 00085: loss did not improve from 0.09262\n",
      "Epoch 86/100\n",
      "6280/6280 [==============================] - 5s 726us/step - loss: 0.0990\n",
      "\n",
      "Epoch 00086: loss did not improve from 0.09262\n",
      "Epoch 87/100\n",
      "6280/6280 [==============================] - 5s 729us/step - loss: 0.1004\n",
      "\n",
      "Epoch 00087: loss did not improve from 0.09262\n",
      "Epoch 88/100\n",
      "6280/6280 [==============================] - 5s 727us/step - loss: 0.0958\n",
      "\n",
      "Epoch 00088: loss did not improve from 0.09262\n",
      "Epoch 89/100\n",
      "6280/6280 [==============================] - 5s 725us/step - loss: 0.0956\n",
      "\n",
      "Epoch 00089: loss did not improve from 0.09262\n",
      "Epoch 90/100\n",
      "6280/6280 [==============================] - 5s 724us/step - loss: 0.0995\n",
      "\n",
      "Epoch 00090: loss did not improve from 0.09262\n",
      "Epoch 91/100\n",
      "6280/6280 [==============================] - 5s 727us/step - loss: 0.0857\n",
      "\n",
      "Epoch 00091: loss improved from 0.09262 to 0.08572, saving model to out/chopin1_91-0.0857.h5\n",
      "Epoch 92/100\n",
      "6280/6280 [==============================] - 5s 726us/step - loss: 0.0882\n",
      "\n",
      "Epoch 00092: loss did not improve from 0.08572\n",
      "Epoch 93/100\n",
      "6280/6280 [==============================] - 5s 725us/step - loss: 0.0923\n",
      "\n",
      "Epoch 00093: loss did not improve from 0.08572\n",
      "Epoch 94/100\n",
      "6280/6280 [==============================] - 5s 726us/step - loss: 0.0897\n",
      "\n",
      "Epoch 00094: loss did not improve from 0.08572\n",
      "Epoch 95/100\n",
      "6280/6280 [==============================] - 5s 723us/step - loss: 0.0882\n",
      "\n",
      "Epoch 00095: loss did not improve from 0.08572\n",
      "Epoch 96/100\n",
      "6280/6280 [==============================] - 5s 727us/step - loss: 0.0894\n",
      "\n",
      "Epoch 00096: loss did not improve from 0.08572\n",
      "Epoch 97/100\n",
      "6280/6280 [==============================] - 5s 727us/step - loss: 0.0874\n",
      "\n",
      "Epoch 00097: loss did not improve from 0.08572\n",
      "Epoch 98/100\n",
      "6280/6280 [==============================] - 5s 725us/step - loss: 0.0853\n",
      "\n",
      "Epoch 00098: loss improved from 0.08572 to 0.08533, saving model to out/chopin1_98-0.0853.h5\n",
      "Epoch 99/100\n",
      "6280/6280 [==============================] - 5s 727us/step - loss: 0.0893\n",
      "\n",
      "Epoch 00099: loss did not improve from 0.08533\n",
      "Epoch 100/100\n",
      "6280/6280 [==============================] - 5s 724us/step - loss: 0.0904\n",
      "\n",
      "Epoch 00100: loss did not improve from 0.08533\n",
      "done...saved a model !..out/model_chopin1_100.h5\n",
      "CPU times: user 14min 28s, sys: 1min 7s, total: 15min 36s\n",
      "Wall time: 7min 41s\n"
     ]
    }
   ],
   "source": [
    "%%time\n",
    "if to_Train:\n",
    "    hist = model.fit(network_input, network_output, epochs=nb_epoch, batch_size=64, \n",
    "              callbacks=callbacks_list)\n",
    "    model.save(fnmodel)\n",
    "    print('done...saved a model !..{}'.format(fnmodel))\n",
    "else:\n",
    "    #model = load_model(fnmodel)\n",
    "    print('done...loaded a model !..{}'.format(fnmodel))"
   ]
  },
  {
   "cell_type": "code",
   "execution_count": 36,
   "metadata": {},
   "outputs": [
    {
     "data": {
      "image/png": "[encoded data removed]",
      "text/plain": [
       "<Figure size 432x288 with 2 Axes>"
      ]
     },
     "metadata": {
      "image/png": {
       "height": 277,
       "width": 399
      },
      "needs_background": "light"
     },
     "output_type": "display_data"
    }
   ],
   "source": [
    "if to_Train:\n",
    "    fig, loss_ax = plt.subplots()\n",
    "    acc_ax = loss_ax.twinx()\n",
    "\n",
    "    loss_ax.plot(hist.history['loss'],  label='train loss')\n",
    "    #loss_ax.plot(hist.history['val_loss'], 'r', label='val loss')\n",
    "    loss_ax.set_xlabel('epoch')\n",
    "    loss_ax.set_ylabel('loss')\n",
    "    loss_ax.legend(loc='upper right')\n",
    "    loss_ax.set_title(folder_name)\n",
    "    #acc_ax.plot(hist.history['acc'], 'b', label='train acc')\n",
    "    #acc_ax.plot(hist.history['val_acc'], 'g', label='val acc')\n",
    "    #acc_ax.set_ylabel('accuracy')\n",
    "    #acc_ax.legend(loc='upper center')\n",
    "    \n",
    "    fig.savefig('out/{}{}_loss.png'.format(folder_name,sequence_length), dpi=fig.dpi)\n",
    "    fig.savefig('out/{}{}_loss.svg'.format(folder_name,sequence_length))"
   ]
  },
  {
   "cell_type": "code",
   "execution_count": null,
   "metadata": {},
   "outputs": [],
   "source": []
  }
 ],
 "metadata": {
  "kernelspec": {
   "display_name": "Python 3",
   "language": "python",
   "name": "python3"
  },
  "language_info": {
   "codemirror_mode": {
    "name": "ipython",
    "version": 3
   },
   "file_extension": ".py",
   "mimetype": "text/x-python",
   "name": "python",
   "nbconvert_exporter": "python",
   "pygments_lexer": "ipython3",
   "version": "3.6.8"
  }
 },
 "nbformat": 4,
 "nbformat_minor": 2
}
